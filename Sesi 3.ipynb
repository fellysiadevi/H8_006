{
 "cells": [
  {
   "cell_type": "code",
   "execution_count": 1,
   "id": "1d16b28d",
   "metadata": {},
   "outputs": [],
   "source": [
    "def func_luas(x,5): \n",
    "    \"function untuk menghitung luas\"\n",
    "    print(x*5)"
   ]
  },
  {
   "cell_type": "code",
   "execution_count": 7,
   "id": "61f3ea2b",
   "metadata": {},
   "outputs": [
    {
     "name": "stdout",
     "output_type": "stream",
     "text": [
      "48\n"
     ]
    }
   ],
   "source": [
    "func_luas(12,4)"
   ]
  },
  {
   "cell_type": "code",
   "execution_count": 8,
   "id": "eea449e6",
   "metadata": {},
   "outputs": [
    {
     "name": "stdout",
     "output_type": "stream",
     "text": [
      "48\n",
      "None\n"
     ]
    }
   ],
   "source": [
    "print(func_luas(12,4))"
   ]
  },
  {
   "cell_type": "code",
   "execution_count": 11,
   "id": "1a13d52a",
   "metadata": {},
   "outputs": [
    {
     "ename": "SyntaxError",
     "evalue": "invalid syntax (Temp/ipykernel_8328/3359636549.py, line 1)",
     "output_type": "error",
     "traceback": [
      "\u001b[1;36m  File \u001b[1;32m\"C:\\Users\\HP\\AppData\\Local\\Temp/ipykernel_8328/3359636549.py\"\u001b[1;36m, line \u001b[1;32m1\u001b[0m\n\u001b[1;33m    def func_luas2(x,5):\u001b[0m\n\u001b[1;37m                     ^\u001b[0m\n\u001b[1;31mSyntaxError\u001b[0m\u001b[1;31m:\u001b[0m invalid syntax\n"
     ]
    }
   ],
   "source": [
    "def func_luas2(x,5): \n",
    "    \"function untuk menghitung luas\"\n",
    "    return x*5"
   ]
  },
  {
   "cell_type": "code",
   "execution_count": 12,
   "id": "a2bc9756",
   "metadata": {},
   "outputs": [
    {
     "name": "stdout",
     "output_type": "stream",
     "text": [
      "Luas : 75\n"
     ]
    }
   ],
   "source": [
    "luas = func_luas2(15,5)\n",
    "print(\"Luas :\",luas)"
   ]
  },
  {
   "cell_type": "code",
   "execution_count": 13,
   "id": "31d6b4f4",
   "metadata": {},
   "outputs": [],
   "source": [
    "def printme( str ):\n",
    "   \"This prints a passed string into this function\"\n",
    "   print(str)\n",
    "   return"
   ]
  },
  {
   "cell_type": "code",
   "execution_count": 14,
   "id": "d106fea8",
   "metadata": {},
   "outputs": [
    {
     "name": "stdout",
     "output_type": "stream",
     "text": [
      "program hacktivate8\n",
      "None\n"
     ]
    }
   ],
   "source": [
    "hasil = printme(\"program hacktivate8\")\n",
    "print(hasil)"
   ]
  },
  {
   "cell_type": "code",
   "execution_count": 15,
   "id": "af34f6b9",
   "metadata": {},
   "outputs": [
    {
     "name": "stdout",
     "output_type": "stream",
     "text": [
      "Bilangan Genap\n",
      "None\n"
     ]
    }
   ],
   "source": [
    "def cekbilangan(n):\n",
    "    if n % 2:\n",
    "        print(\"Bilangan Ganjil\") \n",
    "    else : \n",
    "        print(\"Bilangan Genap\")\n",
    "    return \n",
    "\n",
    "print(cekbilangan(22))"
   ]
  },
  {
   "cell_type": "code",
   "execution_count": 16,
   "id": "19931a20",
   "metadata": {},
   "outputs": [
    {
     "name": "stdout",
     "output_type": "stream",
     "text": [
      "I'm first call to user defined function!\n",
      "Again second call to the same function\n"
     ]
    }
   ],
   "source": [
    "def printme( str ):\n",
    "   \"This prints a passed string into this function\"\n",
    "   print(str)\n",
    "   return;\n",
    "\n",
    "# Now you can call printme function\n",
    "printme(\"I'm first call to user defined function!\")\n",
    "printme(\"Again second call to the same function\")"
   ]
  },
  {
   "cell_type": "code",
   "execution_count": 19,
   "id": "9443bc60",
   "metadata": {},
   "outputs": [
    {
     "name": "stdout",
     "output_type": "stream",
     "text": [
      "isi list [10, 9, 8]\n"
     ]
    }
   ],
   "source": [
    "listx = [10,9,8] \n",
    "print(f\"isi list {listx}\")"
   ]
  },
  {
   "cell_type": "code",
   "execution_count": 20,
   "id": "b5a35df1",
   "metadata": {},
   "outputs": [
    {
     "name": "stdout",
     "output_type": "stream",
     "text": [
      "isi list terbaru setelah di append [10, 9, 8, [4, 5, 6]]\n",
      "isi list terbaru setelah di append [10, 9, 8, [4, 5, 6], 10]\n"
     ]
    }
   ],
   "source": [
    "listx.append([4,5,6]) \n",
    "print(f\"isi list terbaru setelah di append {listx}\")\n",
    "listx.append(10)\n",
    "print(f\"isi list terbaru setelah di append {listx}\")"
   ]
  },
  {
   "cell_type": "code",
   "execution_count": 21,
   "id": "b473959f",
   "metadata": {},
   "outputs": [],
   "source": [
    "def changeme( mylist ):\n",
    "   \"This changes a passed list into this function\"\n",
    "   mylist.append([100,99,98,97]);\n",
    "   print(\"Values inside the function: \", mylist)\n",
    "   return "
   ]
  },
  {
   "cell_type": "code",
   "execution_count": 23,
   "id": "4c045a87",
   "metadata": {},
   "outputs": [
    {
     "name": "stdout",
     "output_type": "stream",
     "text": [
      "Values inside the function:  [45, 46, 47, [1, 2, 3, 4]]\n",
      "Values outside the function:  [45, 46, 47, [1, 2, 3, 4]]\n"
     ]
    }
   ],
   "source": [
    "mylist = [45,46,47];\n",
    "changeme( mylist );\n",
    "print(\"Values outside the function: \", mylist)"
   ]
  },
  {
   "cell_type": "code",
   "execution_count": 27,
   "id": "0b99463d",
   "metadata": {},
   "outputs": [
    {
     "name": "stdout",
     "output_type": "stream",
     "text": [
      "hitung saldo selesai  3990\n",
      "Nominal belanja : 1000\n",
      "Discount        : 10%\n",
      "Saldo sekarang : 5000\n"
     ]
    }
   ],
   "source": [
    "def hitung(amt  ,disc  ,saldo ):\n",
    "    \"hitung sisa saldo\"\n",
    "    saldo -= amt + disc   \n",
    "    print(\"hitung saldo selesai \",saldo)\n",
    "    return \n",
    "\n",
    "amt = 1000\n",
    "disc = 10 \n",
    "saldo = 5000\n",
    "hitung(amt, disc, saldo)\n",
    "\n",
    "print(f'Nominal belanja : {amt}')\n",
    "print(f'Discount        : {disc}%')\n",
    "print(f\"Saldo sekarang : {saldo}\") "
   ]
  },
  {
   "cell_type": "code",
   "execution_count": 28,
   "id": "677a689a",
   "metadata": {},
   "outputs": [
    {
     "name": "stdout",
     "output_type": "stream",
     "text": [
      "Jack is a developer\n",
      "developer is a Jack\n"
     ]
    }
   ],
   "source": [
    "def func(name, job):\n",
    "    print(name, 'is a', job)\n",
    "\n",
    "func('Jack', 'developer')\n",
    "# Prints Jack is a developer\n",
    "\n",
    "func('developer', 'Jack')"
   ]
  },
  {
   "cell_type": "code",
   "execution_count": 29,
   "id": "c384a900",
   "metadata": {},
   "outputs": [
    {
     "name": "stdout",
     "output_type": "stream",
     "text": [
      "Invoice :  1\n",
      "Name:  hacktiv8\n",
      "Amt:  50000\n",
      "Disc: 5000\n",
      "====================\n",
      "Total: 45000\n",
      "\n",
      "\n",
      "##############################\n",
      "\n",
      "\n",
      "Invoice :  2\n",
      "Name:  Jhon\n",
      "Amt:  10000\n",
      "Disc: 100\n",
      "====================\n",
      "Total: 9900\n"
     ]
    }
   ],
   "source": [
    "def totalInvoice( name, amt,  disc = 100 ):\n",
    "    \"This prints a passed info into this function\"\n",
    "    print(\"Name: \", name)\n",
    "    print(\"Amt: \", amt)\n",
    "    print(\"Disc:\", disc) \n",
    "    total = amt - disc \n",
    "    print(10*\"==\")\n",
    "    print(\"Total:\",total)\n",
    "    return\n",
    "\n",
    "# Now you can call printinfo function\n",
    "print(\"Invoice : \",1) \n",
    "totalInvoice( amt=50000, name=\"hacktiv8\", disc = 5000 )\n",
    "print(\"\\n\")\n",
    "\n",
    "print(10*\"###\")\n",
    "print(\"\\n\")\n",
    "print(\"Invoice : \",2) \n",
    "totalInvoice( name=\"Jhon\",  amt=10000)"
   ]
  },
  {
   "cell_type": "code",
   "execution_count": 30,
   "id": "d877d6d1",
   "metadata": {},
   "outputs": [
    {
     "name": "stdout",
     "output_type": "stream",
     "text": [
      "Addition:  12\n",
      "Subtraction:  8\n",
      "Multiplication:  20\n",
      "Division:  5.0\n"
     ]
    }
   ],
   "source": [
    "def arithmetic(num1, num2):\n",
    "    add = num1 + num2\n",
    "    sub = num1 - num2\n",
    "    multiply = num1 * num2\n",
    "    division = num1 / num2\n",
    "    # return four values\n",
    "    return add, sub, multiply, division\n",
    "\n",
    "# read four return values in four variables\n",
    "a, b, c, d = arithmetic(10, 2)\n",
    "\n",
    "print(\"Addition: \", a)\n",
    "print(\"Subtraction: \", b)\n",
    "print(\"Multiplication: \", c)\n",
    "print(\"Division: \", d)"
   ]
  },
  {
   "cell_type": "code",
   "execution_count": 31,
   "id": "dd4a7724",
   "metadata": {},
   "outputs": [
    {
     "name": "stdout",
     "output_type": "stream",
     "text": [
      "(5, 1)\n",
      "<class 'tuple'>\n"
     ]
    }
   ],
   "source": [
    "def func(a, b):\n",
    "    return a+b, a-b\n",
    "\n",
    "result = func(3, 2)\n",
    "\n",
    "print(result)\n",
    "print(type(result))"
   ]
  },
  {
   "cell_type": "code",
   "execution_count": 32,
   "id": "56964349",
   "metadata": {},
   "outputs": [
    {
     "name": "stdout",
     "output_type": "stream",
     "text": [
      "Inside the function :  30\n",
      "Outside the function global total :  30\n"
     ]
    }
   ],
   "source": [
    "total = 10 \n",
    "\n",
    "def  sum(arg1, arg2):\n",
    "    \" Add both the parameters and return them.\"\n",
    "    total = arg1 + arg2\n",
    "    print(\"Inside the function : \", total)\n",
    "    return total\n",
    "\n",
    "def min():\n",
    "    return \n",
    "     \n",
    "\n",
    "total = sum(10,20)\n",
    "print(\"Outside the function global total : \", total)"
   ]
  },
  {
   "cell_type": "code",
   "execution_count": 33,
   "id": "99a80448",
   "metadata": {},
   "outputs": [
    {
     "name": "stdout",
     "output_type": "stream",
     "text": [
      "Terbilang : Enam Puluh Empat\n"
     ]
    }
   ],
   "source": [
    "def Terbilang(bil):\n",
    "    angka = [\"\",\"Satu\",\"Dua\",\"Tiga\",\"Empat\",\"Lima\",\"Enam\",\n",
    "             \"Tujuh\",\"Delapan\",\"Sembilan\",\"Sepuluh\",\"Sebelas\"]\n",
    "    Hasil = \" \"\n",
    "    n = int(bil)\n",
    "    if n>= 0 and n <= 11:\n",
    "        Hasil = angka[n]\n",
    "    elif n <20:\n",
    "        Hasil = Terbilang (n-10) + \" Belas \"\n",
    "    elif n <100:\n",
    "        Hasil = Terbilang (n/10) + \" Puluh \" + Terbilang (n%10)\n",
    "    elif n <200:\n",
    "        Hasil = \" Seratus \" + Terbilang (n-100)\n",
    "    elif n <1000:\n",
    "        Hasil = Terbilang (n/100) + \" Ratus \" + Terbilang (n%100)\n",
    "    elif n <2000:\n",
    "        Hasil = \" Seribu \" + Terbilang (n-1000)\n",
    "    elif n <1000000:\n",
    "        Hasil = Terbilang (n/1000) + \" Ribu \" + Terbilang (n%1000)\n",
    "    elif n <1000000000:\n",
    "        Hasil = Terbilang (n/1000000) + \" Juta \" + Terbilang (n%1000000)\n",
    "    elif n <1000000000000:\n",
    "        Hasil = Terbilang (n/1000000000) + \" Milyar \" + Terbilang (n%1000000000)\n",
    "    elif n <1000000000000000:\n",
    "        Hasil = Terbilang (n/1000000000000) + \" Triliyun \" + Terbilang (n%1000000000000)\n",
    "    else:\n",
    "        Hasil = \"Angka Hanya sama Triliyun\"\n",
    "\n",
    "    return Hasil\n",
    "\n",
    "\n",
    "\n",
    "huruf = Terbilang(\"64\")\n",
    "print(f\"Terbilang : {huruf}\")"
   ]
  },
  {
   "cell_type": "code",
   "execution_count": 34,
   "id": "5f35f9c6",
   "metadata": {},
   "outputs": [
    {
     "name": "stdout",
     "output_type": "stream",
     "text": [
      "Terbilang : Empat Puluh Tujuh\n"
     ]
    }
   ],
   "source": [
    "huruf = Terbilang(\"47\")\n",
    "print(f\"Terbilang : {huruf}\")"
   ]
  },
  {
   "cell_type": "code",
   "execution_count": 39,
   "id": "2c41ab1b",
   "metadata": {},
   "outputs": [
    {
     "name": "stdout",
     "output_type": "stream",
     "text": [
      "Jojo\n",
      "Jojo mendapatkan nilai : 45 , tetap semangat ya Jojo\n"
     ]
    }
   ],
   "source": [
    "class Mahasiswa():\n",
    "    def __init__(self, masukan_nama):\n",
    "        self.nama = masukan_nama\n",
    " \n",
    "    def nilai(self, nilai):\n",
    "        if nilai >= 60:\n",
    "            print(self.nama,'berhasil lulus dengan mencapai nilai :',nilai)\n",
    "        else:\n",
    "            print(self.nama, \"mendapatkan nilai :\",nilai,\", tetap semangat ya\", self.nama)\n",
    " \n",
    "mhs = Mahasiswa(\"Jojo\")\n",
    "print(mhs.nama)\n",
    " \n",
    "mhs.nilai(45);"
   ]
  },
  {
   "cell_type": "code",
   "execution_count": null,
   "id": "94b6a9d3",
   "metadata": {},
   "outputs": [],
   "source": []
  }
 ],
 "metadata": {
  "kernelspec": {
   "display_name": "Python 3 (ipykernel)",
   "language": "python",
   "name": "python3"
  },
  "language_info": {
   "codemirror_mode": {
    "name": "ipython",
    "version": 3
   },
   "file_extension": ".py",
   "mimetype": "text/x-python",
   "name": "python",
   "nbconvert_exporter": "python",
   "pygments_lexer": "ipython3",
   "version": "3.9.7"
  },
  "varInspector": {
   "cols": {
    "lenName": 16,
    "lenType": 16,
    "lenVar": 40
   },
   "kernels_config": {
    "python": {
     "delete_cmd_postfix": "",
     "delete_cmd_prefix": "del ",
     "library": "var_list.py",
     "varRefreshCmd": "print(var_dic_list())"
    },
    "r": {
     "delete_cmd_postfix": ") ",
     "delete_cmd_prefix": "rm(",
     "library": "var_list.r",
     "varRefreshCmd": "cat(var_dic_list()) "
    }
   },
   "types_to_exclude": [
    "module",
    "function",
    "builtin_function_or_method",
    "instance",
    "_Feature"
   ],
   "window_display": false
  }
 },
 "nbformat": 4,
 "nbformat_minor": 5
}
