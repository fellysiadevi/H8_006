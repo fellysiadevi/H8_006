{
 "cells": [
  {
   "cell_type": "markdown",
   "id": "8adf6384",
   "metadata": {},
   "source": [
    "# Assignment 3 Python"
   ]
  },
  {
   "cell_type": "markdown",
   "id": "59187bb6",
   "metadata": {},
   "source": [
    "#### Fellysia Devi Pramono\n",
    "\n",
    "#### PYTN-KS06-006"
   ]
  },
  {
   "cell_type": "markdown",
   "id": "e69ec5da",
   "metadata": {},
   "source": [
    "#### Import Library\n",
    "Diimport terlebih dahulu library yang dibutuhkan"
   ]
  },
  {
   "cell_type": "code",
   "execution_count": 1,
   "id": "2e0baaa8",
   "metadata": {},
   "outputs": [],
   "source": [
    "import numpy as np\n",
    "import pandas as pd\n",
    "import matplotlib.pyplot as plt\n",
    "import seaborn as sns"
   ]
  },
  {
   "cell_type": "markdown",
   "id": "ea889bde",
   "metadata": {},
   "source": [
    "Kemudian datanya diimport sesuai dengan lokasi data yang akan digunakan"
   ]
  },
  {
   "cell_type": "code",
   "execution_count": 2,
   "id": "271f72eb",
   "metadata": {},
   "outputs": [],
   "source": [
    "CSV_FILE = 'C:\\\\Users\\\\HP\\\\dataset\\\\bank-additional.csv'\n",
    "df = pd.read_csv(CSV_FILE,sep=';')"
   ]
  },
  {
   "cell_type": "code",
   "execution_count": 3,
   "id": "414233cc",
   "metadata": {},
   "outputs": [
    {
     "data": {
      "text/html": [
       "<div>\n",
       "<style scoped>\n",
       "    .dataframe tbody tr th:only-of-type {\n",
       "        vertical-align: middle;\n",
       "    }\n",
       "\n",
       "    .dataframe tbody tr th {\n",
       "        vertical-align: top;\n",
       "    }\n",
       "\n",
       "    .dataframe thead th {\n",
       "        text-align: right;\n",
       "    }\n",
       "</style>\n",
       "<table border=\"1\" class=\"dataframe\">\n",
       "  <thead>\n",
       "    <tr style=\"text-align: right;\">\n",
       "      <th></th>\n",
       "      <th>age</th>\n",
       "      <th>job</th>\n",
       "      <th>marital</th>\n",
       "      <th>education</th>\n",
       "      <th>default</th>\n",
       "      <th>housing</th>\n",
       "      <th>loan</th>\n",
       "      <th>contact</th>\n",
       "      <th>month</th>\n",
       "      <th>day_of_week</th>\n",
       "      <th>...</th>\n",
       "      <th>campaign</th>\n",
       "      <th>pdays</th>\n",
       "      <th>previous</th>\n",
       "      <th>poutcome</th>\n",
       "      <th>emp.var.rate</th>\n",
       "      <th>cons.price.idx</th>\n",
       "      <th>cons.conf.idx</th>\n",
       "      <th>euribor3m</th>\n",
       "      <th>nr.employed</th>\n",
       "      <th>y</th>\n",
       "    </tr>\n",
       "  </thead>\n",
       "  <tbody>\n",
       "    <tr>\n",
       "      <th>0</th>\n",
       "      <td>30</td>\n",
       "      <td>blue-collar</td>\n",
       "      <td>married</td>\n",
       "      <td>basic.9y</td>\n",
       "      <td>no</td>\n",
       "      <td>yes</td>\n",
       "      <td>no</td>\n",
       "      <td>cellular</td>\n",
       "      <td>may</td>\n",
       "      <td>fri</td>\n",
       "      <td>...</td>\n",
       "      <td>2</td>\n",
       "      <td>999</td>\n",
       "      <td>0</td>\n",
       "      <td>nonexistent</td>\n",
       "      <td>-1.8</td>\n",
       "      <td>92.893</td>\n",
       "      <td>-46.2</td>\n",
       "      <td>1.313</td>\n",
       "      <td>5099.1</td>\n",
       "      <td>no</td>\n",
       "    </tr>\n",
       "    <tr>\n",
       "      <th>1</th>\n",
       "      <td>39</td>\n",
       "      <td>services</td>\n",
       "      <td>single</td>\n",
       "      <td>high.school</td>\n",
       "      <td>no</td>\n",
       "      <td>no</td>\n",
       "      <td>no</td>\n",
       "      <td>telephone</td>\n",
       "      <td>may</td>\n",
       "      <td>fri</td>\n",
       "      <td>...</td>\n",
       "      <td>4</td>\n",
       "      <td>999</td>\n",
       "      <td>0</td>\n",
       "      <td>nonexistent</td>\n",
       "      <td>1.1</td>\n",
       "      <td>93.994</td>\n",
       "      <td>-36.4</td>\n",
       "      <td>4.855</td>\n",
       "      <td>5191.0</td>\n",
       "      <td>no</td>\n",
       "    </tr>\n",
       "    <tr>\n",
       "      <th>2</th>\n",
       "      <td>25</td>\n",
       "      <td>services</td>\n",
       "      <td>married</td>\n",
       "      <td>high.school</td>\n",
       "      <td>no</td>\n",
       "      <td>yes</td>\n",
       "      <td>no</td>\n",
       "      <td>telephone</td>\n",
       "      <td>jun</td>\n",
       "      <td>wed</td>\n",
       "      <td>...</td>\n",
       "      <td>1</td>\n",
       "      <td>999</td>\n",
       "      <td>0</td>\n",
       "      <td>nonexistent</td>\n",
       "      <td>1.4</td>\n",
       "      <td>94.465</td>\n",
       "      <td>-41.8</td>\n",
       "      <td>4.962</td>\n",
       "      <td>5228.1</td>\n",
       "      <td>no</td>\n",
       "    </tr>\n",
       "    <tr>\n",
       "      <th>3</th>\n",
       "      <td>38</td>\n",
       "      <td>services</td>\n",
       "      <td>married</td>\n",
       "      <td>basic.9y</td>\n",
       "      <td>no</td>\n",
       "      <td>unknown</td>\n",
       "      <td>unknown</td>\n",
       "      <td>telephone</td>\n",
       "      <td>jun</td>\n",
       "      <td>fri</td>\n",
       "      <td>...</td>\n",
       "      <td>3</td>\n",
       "      <td>999</td>\n",
       "      <td>0</td>\n",
       "      <td>nonexistent</td>\n",
       "      <td>1.4</td>\n",
       "      <td>94.465</td>\n",
       "      <td>-41.8</td>\n",
       "      <td>4.959</td>\n",
       "      <td>5228.1</td>\n",
       "      <td>no</td>\n",
       "    </tr>\n",
       "    <tr>\n",
       "      <th>4</th>\n",
       "      <td>47</td>\n",
       "      <td>admin.</td>\n",
       "      <td>married</td>\n",
       "      <td>university.degree</td>\n",
       "      <td>no</td>\n",
       "      <td>yes</td>\n",
       "      <td>no</td>\n",
       "      <td>cellular</td>\n",
       "      <td>nov</td>\n",
       "      <td>mon</td>\n",
       "      <td>...</td>\n",
       "      <td>1</td>\n",
       "      <td>999</td>\n",
       "      <td>0</td>\n",
       "      <td>nonexistent</td>\n",
       "      <td>-0.1</td>\n",
       "      <td>93.200</td>\n",
       "      <td>-42.0</td>\n",
       "      <td>4.191</td>\n",
       "      <td>5195.8</td>\n",
       "      <td>no</td>\n",
       "    </tr>\n",
       "  </tbody>\n",
       "</table>\n",
       "<p>5 rows × 21 columns</p>\n",
       "</div>"
      ],
      "text/plain": [
       "   age          job  marital          education default  housing     loan  \\\n",
       "0   30  blue-collar  married           basic.9y      no      yes       no   \n",
       "1   39     services   single        high.school      no       no       no   \n",
       "2   25     services  married        high.school      no      yes       no   \n",
       "3   38     services  married           basic.9y      no  unknown  unknown   \n",
       "4   47       admin.  married  university.degree      no      yes       no   \n",
       "\n",
       "     contact month day_of_week  ...  campaign  pdays  previous     poutcome  \\\n",
       "0   cellular   may         fri  ...         2    999         0  nonexistent   \n",
       "1  telephone   may         fri  ...         4    999         0  nonexistent   \n",
       "2  telephone   jun         wed  ...         1    999         0  nonexistent   \n",
       "3  telephone   jun         fri  ...         3    999         0  nonexistent   \n",
       "4   cellular   nov         mon  ...         1    999         0  nonexistent   \n",
       "\n",
       "  emp.var.rate  cons.price.idx  cons.conf.idx  euribor3m  nr.employed   y  \n",
       "0         -1.8          92.893          -46.2      1.313       5099.1  no  \n",
       "1          1.1          93.994          -36.4      4.855       5191.0  no  \n",
       "2          1.4          94.465          -41.8      4.962       5228.1  no  \n",
       "3          1.4          94.465          -41.8      4.959       5228.1  no  \n",
       "4         -0.1          93.200          -42.0      4.191       5195.8  no  \n",
       "\n",
       "[5 rows x 21 columns]"
      ]
     },
     "execution_count": 3,
     "metadata": {},
     "output_type": "execute_result"
    }
   ],
   "source": [
    "df.head()"
   ]
  },
  {
   "cell_type": "markdown",
   "id": "78682960",
   "metadata": {},
   "source": [
    "### Missing Values Check\n",
    "Akan dicek apakah data yang digunakan memiliki missing values atau tidak"
   ]
  },
  {
   "cell_type": "code",
   "execution_count": 4,
   "id": "6c5f6957",
   "metadata": {},
   "outputs": [
    {
     "data": {
      "text/plain": [
       "age               0\n",
       "job               0\n",
       "marital           0\n",
       "education         0\n",
       "default           0\n",
       "housing           0\n",
       "loan              0\n",
       "contact           0\n",
       "month             0\n",
       "day_of_week       0\n",
       "duration          0\n",
       "campaign          0\n",
       "pdays             0\n",
       "previous          0\n",
       "poutcome          0\n",
       "emp.var.rate      0\n",
       "cons.price.idx    0\n",
       "cons.conf.idx     0\n",
       "euribor3m         0\n",
       "nr.employed       0\n",
       "y                 0\n",
       "dtype: int64"
      ]
     },
     "execution_count": 4,
     "metadata": {},
     "output_type": "execute_result"
    }
   ],
   "source": [
    "df.isnull().sum()"
   ]
  },
  {
   "cell_type": "markdown",
   "id": "a8396654",
   "metadata": {},
   "source": [
    "Karena tidak memiliki missing values, maka data ini dapat dilanjutkan tanpa harus menambahkan values"
   ]
  },
  {
   "cell_type": "markdown",
   "id": "2a3b10b8",
   "metadata": {},
   "source": [
    "Pertama-tama yang akan dieksekusi yaitu Logistic Regression"
   ]
  },
  {
   "cell_type": "markdown",
   "id": "5bbd141e",
   "metadata": {},
   "source": [
    "### Logistic Regression "
   ]
  },
  {
   "cell_type": "markdown",
   "id": "05ba28f5",
   "metadata": {},
   "source": [
    "Diimport library yang dibutuhkan untuk logistic regression"
   ]
  },
  {
   "cell_type": "code",
   "execution_count": 5,
   "id": "16636b06",
   "metadata": {},
   "outputs": [],
   "source": [
    "import matplotlib.pyplot as plt\n",
    "import numpy as np\n",
    "from sklearn.linear_model import LogisticRegression\n",
    "from sklearn.model_selection import train_test_split\n",
    "from sklearn.metrics import classification_report, confusion_matrix\n",
    "from sklearn.metrics import f1_score\n",
    "from sklearn import metrics"
   ]
  },
  {
   "cell_type": "markdown",
   "id": "ffc5af9a",
   "metadata": {},
   "source": [
    "Kita harus mencocokkan solver dan regularization dengan hati-hati karena beberapa alasan:\n",
    "\n",
    "'liblinear' solver doesn’t work without regularization. 'newton-cg', 'sag', 'saga', and 'lbfgs' don’t support L1 regularization. 'saga' is the only solver that supports elastic-net regularization. Setelah model dibuat, kita perlu menyesuaikan (atau melatih) model tersebut."
   ]
  },
  {
   "cell_type": "code",
   "execution_count": 6,
   "id": "6b03f42b",
   "metadata": {},
   "outputs": [],
   "source": [
    "model = LogisticRegression(solver = 'liblinear', random_state = 0)"
   ]
  },
  {
   "cell_type": "markdown",
   "id": "4ca9d4d2",
   "metadata": {},
   "source": [
    "Agar data yang digunakan tidak terlalu banyak menggunakan variabel, untuk variabel basic.9y, basic.6y, dan basic.4y akan diubah menjadi Basic dengan numpy seperti di bawah ini"
   ]
  },
  {
   "cell_type": "code",
   "execution_count": 7,
   "id": "b9a7d713",
   "metadata": {},
   "outputs": [],
   "source": [
    "df['education']=np.where(df['education'] =='basic.9y', 'Basic', df['education'])\n",
    "df['education']=np.where(df['education'] =='basic.6y', 'Basic', df['education'])\n",
    "df['education']=np.where(df['education'] =='basic.4y', 'Basic', df['education'])"
   ]
  },
  {
   "cell_type": "code",
   "execution_count": 8,
   "id": "d7e91c53",
   "metadata": {},
   "outputs": [
    {
     "data": {
      "text/html": [
       "<div>\n",
       "<style scoped>\n",
       "    .dataframe tbody tr th:only-of-type {\n",
       "        vertical-align: middle;\n",
       "    }\n",
       "\n",
       "    .dataframe tbody tr th {\n",
       "        vertical-align: top;\n",
       "    }\n",
       "\n",
       "    .dataframe thead th {\n",
       "        text-align: right;\n",
       "    }\n",
       "</style>\n",
       "<table border=\"1\" class=\"dataframe\">\n",
       "  <thead>\n",
       "    <tr style=\"text-align: right;\">\n",
       "      <th></th>\n",
       "      <th>age</th>\n",
       "      <th>job</th>\n",
       "      <th>marital</th>\n",
       "      <th>education</th>\n",
       "      <th>default</th>\n",
       "      <th>housing</th>\n",
       "      <th>loan</th>\n",
       "      <th>contact</th>\n",
       "      <th>month</th>\n",
       "      <th>day_of_week</th>\n",
       "      <th>...</th>\n",
       "      <th>pdays</th>\n",
       "      <th>previous</th>\n",
       "      <th>poutcome</th>\n",
       "      <th>emp.var.rate</th>\n",
       "      <th>cons.price.idx</th>\n",
       "      <th>cons.conf.idx</th>\n",
       "      <th>euribor3m</th>\n",
       "      <th>nr.employed</th>\n",
       "      <th>y</th>\n",
       "      <th>yes?</th>\n",
       "    </tr>\n",
       "  </thead>\n",
       "  <tbody>\n",
       "    <tr>\n",
       "      <th>0</th>\n",
       "      <td>30</td>\n",
       "      <td>blue-collar</td>\n",
       "      <td>married</td>\n",
       "      <td>Basic</td>\n",
       "      <td>no</td>\n",
       "      <td>yes</td>\n",
       "      <td>no</td>\n",
       "      <td>cellular</td>\n",
       "      <td>may</td>\n",
       "      <td>fri</td>\n",
       "      <td>...</td>\n",
       "      <td>999</td>\n",
       "      <td>0</td>\n",
       "      <td>nonexistent</td>\n",
       "      <td>-1.8</td>\n",
       "      <td>92.893</td>\n",
       "      <td>-46.2</td>\n",
       "      <td>1.313</td>\n",
       "      <td>5099.1</td>\n",
       "      <td>no</td>\n",
       "      <td>0</td>\n",
       "    </tr>\n",
       "    <tr>\n",
       "      <th>1</th>\n",
       "      <td>39</td>\n",
       "      <td>services</td>\n",
       "      <td>single</td>\n",
       "      <td>high.school</td>\n",
       "      <td>no</td>\n",
       "      <td>no</td>\n",
       "      <td>no</td>\n",
       "      <td>telephone</td>\n",
       "      <td>may</td>\n",
       "      <td>fri</td>\n",
       "      <td>...</td>\n",
       "      <td>999</td>\n",
       "      <td>0</td>\n",
       "      <td>nonexistent</td>\n",
       "      <td>1.1</td>\n",
       "      <td>93.994</td>\n",
       "      <td>-36.4</td>\n",
       "      <td>4.855</td>\n",
       "      <td>5191.0</td>\n",
       "      <td>no</td>\n",
       "      <td>0</td>\n",
       "    </tr>\n",
       "    <tr>\n",
       "      <th>2</th>\n",
       "      <td>25</td>\n",
       "      <td>services</td>\n",
       "      <td>married</td>\n",
       "      <td>high.school</td>\n",
       "      <td>no</td>\n",
       "      <td>yes</td>\n",
       "      <td>no</td>\n",
       "      <td>telephone</td>\n",
       "      <td>jun</td>\n",
       "      <td>wed</td>\n",
       "      <td>...</td>\n",
       "      <td>999</td>\n",
       "      <td>0</td>\n",
       "      <td>nonexistent</td>\n",
       "      <td>1.4</td>\n",
       "      <td>94.465</td>\n",
       "      <td>-41.8</td>\n",
       "      <td>4.962</td>\n",
       "      <td>5228.1</td>\n",
       "      <td>no</td>\n",
       "      <td>0</td>\n",
       "    </tr>\n",
       "    <tr>\n",
       "      <th>3</th>\n",
       "      <td>38</td>\n",
       "      <td>services</td>\n",
       "      <td>married</td>\n",
       "      <td>Basic</td>\n",
       "      <td>no</td>\n",
       "      <td>unknown</td>\n",
       "      <td>unknown</td>\n",
       "      <td>telephone</td>\n",
       "      <td>jun</td>\n",
       "      <td>fri</td>\n",
       "      <td>...</td>\n",
       "      <td>999</td>\n",
       "      <td>0</td>\n",
       "      <td>nonexistent</td>\n",
       "      <td>1.4</td>\n",
       "      <td>94.465</td>\n",
       "      <td>-41.8</td>\n",
       "      <td>4.959</td>\n",
       "      <td>5228.1</td>\n",
       "      <td>no</td>\n",
       "      <td>0</td>\n",
       "    </tr>\n",
       "    <tr>\n",
       "      <th>4</th>\n",
       "      <td>47</td>\n",
       "      <td>admin.</td>\n",
       "      <td>married</td>\n",
       "      <td>university.degree</td>\n",
       "      <td>no</td>\n",
       "      <td>yes</td>\n",
       "      <td>no</td>\n",
       "      <td>cellular</td>\n",
       "      <td>nov</td>\n",
       "      <td>mon</td>\n",
       "      <td>...</td>\n",
       "      <td>999</td>\n",
       "      <td>0</td>\n",
       "      <td>nonexistent</td>\n",
       "      <td>-0.1</td>\n",
       "      <td>93.200</td>\n",
       "      <td>-42.0</td>\n",
       "      <td>4.191</td>\n",
       "      <td>5195.8</td>\n",
       "      <td>no</td>\n",
       "      <td>0</td>\n",
       "    </tr>\n",
       "  </tbody>\n",
       "</table>\n",
       "<p>5 rows × 22 columns</p>\n",
       "</div>"
      ],
      "text/plain": [
       "   age          job  marital          education default  housing     loan  \\\n",
       "0   30  blue-collar  married              Basic      no      yes       no   \n",
       "1   39     services   single        high.school      no       no       no   \n",
       "2   25     services  married        high.school      no      yes       no   \n",
       "3   38     services  married              Basic      no  unknown  unknown   \n",
       "4   47       admin.  married  university.degree      no      yes       no   \n",
       "\n",
       "     contact month day_of_week  ...  pdays  previous     poutcome  \\\n",
       "0   cellular   may         fri  ...    999         0  nonexistent   \n",
       "1  telephone   may         fri  ...    999         0  nonexistent   \n",
       "2  telephone   jun         wed  ...    999         0  nonexistent   \n",
       "3  telephone   jun         fri  ...    999         0  nonexistent   \n",
       "4   cellular   nov         mon  ...    999         0  nonexistent   \n",
       "\n",
       "   emp.var.rate cons.price.idx  cons.conf.idx  euribor3m  nr.employed   y  \\\n",
       "0          -1.8         92.893          -46.2      1.313       5099.1  no   \n",
       "1           1.1         93.994          -36.4      4.855       5191.0  no   \n",
       "2           1.4         94.465          -41.8      4.962       5228.1  no   \n",
       "3           1.4         94.465          -41.8      4.959       5228.1  no   \n",
       "4          -0.1         93.200          -42.0      4.191       5195.8  no   \n",
       "\n",
       "   yes?  \n",
       "0     0  \n",
       "1     0  \n",
       "2     0  \n",
       "3     0  \n",
       "4     0  \n",
       "\n",
       "[5 rows x 22 columns]"
      ]
     },
     "execution_count": 8,
     "metadata": {},
     "output_type": "execute_result"
    }
   ],
   "source": [
    "df['yes?'] = df.y.replace({'yes': 1, 'no':0})\n",
    "df.head()"
   ]
  },
  {
   "cell_type": "markdown",
   "id": "20034fc0",
   "metadata": {},
   "source": [
    "Ditambahkan kolom yang berisikan 1 dan 0 untuk melambangkan yes dan no pada kolom y"
   ]
  },
  {
   "cell_type": "markdown",
   "id": "18ffecbc",
   "metadata": {},
   "source": [
    "Melanjutkan Logistic Regression, langkah selanjutnya adalah mendefinisikan x dan y"
   ]
  },
  {
   "cell_type": "code",
   "execution_count": 9,
   "id": "b4f9f82e",
   "metadata": {},
   "outputs": [],
   "source": [
    "X = df[['duration', 'campaign', 'pdays', 'previous']]\n",
    "Y = df['yes?']"
   ]
  },
  {
   "cell_type": "markdown",
   "id": "df717366",
   "metadata": {},
   "source": [
    "Untuk memahami performa model, membagi set data menjadi training set dan test set adalah strategi yang baik.\n",
    "\n",
    "Pisahkan kumpulan data dengan menggunakan fungsi train_test_split(). Kita harus meneruskan 3 parameter X, Y, and test_set size. Selain itu, kita dapat menggunakan random_state untuk memilih record secara acak."
   ]
  },
  {
   "cell_type": "code",
   "execution_count": 10,
   "id": "b796e606",
   "metadata": {},
   "outputs": [
    {
     "data": {
      "text/plain": [
       "LogisticRegression()"
      ]
     },
     "execution_count": 10,
     "metadata": {},
     "output_type": "execute_result"
    }
   ],
   "source": [
    "logreg = LogisticRegression()\n",
    "X_train, X_test, Y_train, Y_test = train_test_split(X, Y, test_size=0.3, random_state=0)\n",
    "logreg.fit(X_train, Y_train)"
   ]
  },
  {
   "cell_type": "markdown",
   "id": "92826b80",
   "metadata": {},
   "source": [
    "Kemudian, lakukan prediksi pada set test menggunakan predict()."
   ]
  },
  {
   "cell_type": "code",
   "execution_count": 11,
   "id": "a77e9183",
   "metadata": {},
   "outputs": [],
   "source": [
    "Y_pred=logreg.predict(X_test)"
   ]
  },
  {
   "cell_type": "markdown",
   "id": "96c0369a",
   "metadata": {},
   "source": [
    "Untuk melihat akurasi dari klasifikasi logistic regression dapat menggunakan .format(logisticregression.score(X_test, Y_test)"
   ]
  },
  {
   "cell_type": "code",
   "execution_count": 12,
   "id": "20fbd896",
   "metadata": {},
   "outputs": [
    {
     "name": "stdout",
     "output_type": "stream",
     "text": [
      "Accuracy of logistic regression classifier on test set: 0.91\n"
     ]
    }
   ],
   "source": [
    "print('Accuracy of logistic regression classifier on test set: {:.2f}'.format(logreg.score(X_test, Y_test)))"
   ]
  },
  {
   "cell_type": "markdown",
   "id": "7e81fc09",
   "metadata": {},
   "source": [
    "Untuk memvisualisasikan confusion matrix, akan didefinisikan terlebih dahulu confusion_matix seperti di bawah ini"
   ]
  },
  {
   "cell_type": "code",
   "execution_count": 13,
   "id": "fbd96d0a",
   "metadata": {},
   "outputs": [
    {
     "name": "stdout",
     "output_type": "stream",
     "text": [
      "[[1081   33]\n",
      " [  82   40]]\n"
     ]
    }
   ],
   "source": [
    "from sklearn.metrics import confusion_matrix\n",
    "confusion_matrix = confusion_matrix(Y_test, Y_pred)\n",
    "print(confusion_matrix)"
   ]
  },
  {
   "cell_type": "markdown",
   "id": "b291a11b",
   "metadata": {},
   "source": [
    "Seringkali berguna untuk memvisualisasikan confusion matrix dari Matplotlib di bawah ini"
   ]
  },
  {
   "cell_type": "code",
   "execution_count": 14,
   "id": "00f33ac8",
   "metadata": {},
   "outputs": [
    {
     "data": {
      "text/plain": [
       "Text(0.5, 257.44, 'Predicted label')"
      ]
     },
     "execution_count": 14,
     "metadata": {},
     "output_type": "execute_result"
    },
    {
     "data": {
      "image/png": "[encoded data removed]",
      "text/plain": [
       "<Figure size 432x288 with 2 Axes>"
      ]
     },
     "metadata": {
      "needs_background": "light"
     },
     "output_type": "display_data"
    }
   ],
   "source": [
    "class_names=[0,1] # name  of classes\n",
    "fig, ax = plt.subplots()\n",
    "tick_marks = np.arange(len(class_names))\n",
    "plt.xticks(tick_marks, class_names)\n",
    "plt.yticks(tick_marks, class_names)\n",
    "# create heatmap\n",
    "sns.heatmap(pd.DataFrame(confusion_matrix), annot=True, cmap=\"YlGnBu\" ,fmt='g')\n",
    "ax.xaxis.set_label_position(\"top\")\n",
    "plt.tight_layout()\n",
    "plt.title('Confusion matrix', y=1.1)\n",
    "plt.ylabel('Actual label')\n",
    "plt.xlabel('Predicted label')"
   ]
  },
  {
   "cell_type": "markdown",
   "id": "d9447dbf",
   "metadata": {},
   "source": [
    "Pada gambar ini, warna berbeda mewakili angka berbeda dan warna serupa mewakili angka serupa. Heatmaps adalah cara yang bagus untuk merepresentasikan matriks.\n",
    "\n",
    "Kita bisa mendapatkan laporan yang lebih komprehensif tentang klasifikasi dengan classification_report():"
   ]
  },
  {
   "cell_type": "code",
   "execution_count": 15,
   "id": "66a43bab",
   "metadata": {},
   "outputs": [
    {
     "name": "stdout",
     "output_type": "stream",
     "text": [
      "              precision    recall  f1-score   support\n",
      "\n",
      "           0       0.93      0.97      0.95      1114\n",
      "           1       0.55      0.33      0.41       122\n",
      "\n",
      "    accuracy                           0.91      1236\n",
      "   macro avg       0.74      0.65      0.68      1236\n",
      "weighted avg       0.89      0.91      0.90      1236\n",
      "\n"
     ]
    }
   ],
   "source": [
    "from sklearn.metrics import classification_report\n",
    "print(classification_report(Y_test, Y_pred))"
   ]
  },
  {
   "cell_type": "code",
   "execution_count": 16,
   "id": "aa43e039",
   "metadata": {},
   "outputs": [
    {
     "name": "stdout",
     "output_type": "stream",
     "text": [
      "Accuracy: 0.906957928802589\n",
      "Precision: 0.547945205479452\n",
      "Recall: 0.32786885245901637\n"
     ]
    }
   ],
   "source": [
    "print(\"Accuracy:\",metrics.accuracy_score(Y_test, Y_pred))\n",
    "print(\"Precision:\",metrics.precision_score(Y_test, Y_pred))\n",
    "print(\"Recall:\",metrics.recall_score(Y_test, Y_pred))"
   ]
  },
  {
   "cell_type": "markdown",
   "id": "de14d81e",
   "metadata": {},
   "source": [
    "Diketahui bahwa hasil output di atas menghasilkan keakuratan 90.6%, dengan precision 54.7% dan recall 32.7% yang kurang baik"
   ]
  },
  {
   "cell_type": "code",
   "execution_count": 17,
   "id": "744ea1d4",
   "metadata": {},
   "outputs": [
    {
     "data": {
      "text/plain": [
       "0.4102564102564103"
      ]
     },
     "execution_count": 17,
     "metadata": {},
     "output_type": "execute_result"
    }
   ],
   "source": [
    "f1_score(Y_test, Y_pred)"
   ]
  },
  {
   "cell_type": "markdown",
   "id": "c8219f47",
   "metadata": {},
   "source": [
    "Untuk nilai f1 score di atas sebesar 41.02%"
   ]
  },
  {
   "cell_type": "markdown",
   "id": "225d6eea",
   "metadata": {},
   "source": [
    "### K-Nearest Neighbors\n",
    "Akan direname terlebih dahulu kolom y menjadi deposit untuk menghindari error"
   ]
  },
  {
   "cell_type": "code",
   "execution_count": 18,
   "id": "99611e69",
   "metadata": {},
   "outputs": [],
   "source": [
    "df1 = df.rename(columns={'y': 'deposit'}) "
   ]
  },
  {
   "cell_type": "code",
   "execution_count": 19,
   "id": "3b33a79c",
   "metadata": {},
   "outputs": [
    {
     "data": {
      "text/plain": [
       "Index(['age', 'job', 'marital', 'education', 'default', 'housing', 'loan',\n",
       "       'contact', 'month', 'day_of_week', 'duration', 'campaign', 'pdays',\n",
       "       'previous', 'poutcome', 'emp.var.rate', 'cons.price.idx',\n",
       "       'cons.conf.idx', 'euribor3m', 'nr.employed', 'deposit', 'yes?'],\n",
       "      dtype='object')"
      ]
     },
     "execution_count": 19,
     "metadata": {},
     "output_type": "execute_result"
    }
   ],
   "source": [
    "df1.columns"
   ]
  },
  {
   "cell_type": "markdown",
   "id": "1d12cb14",
   "metadata": {},
   "source": [
    "Dalam sel kode ini kita juga akan mengkodekan kolom label kita dengan mengganti 'ya' dan 'tidak' dengan masing-masing 1 dan 0. "
   ]
  },
  {
   "cell_type": "code",
   "execution_count": 20,
   "id": "bde12254",
   "metadata": {},
   "outputs": [],
   "source": [
    "from sklearn.preprocessing import OneHotEncoder\n",
    "\n",
    "encoder = OneHotEncoder(sparse=False)\n",
    "kol_cat = ['job', 'marital', 'education', 'default', 'housing', 'loan', 'contact', 'month','day_of_week', 'poutcome']"
   ]
  },
  {
   "cell_type": "markdown",
   "id": "62345993",
   "metadata": {},
   "source": [
    "Melakukan pra-proses data kategoris , dari kata ke angka menggunakan OneHotEncoder() pada sklearn. Pada dasarnya itu akan mengubah kolom kategoris."
   ]
  },
  {
   "cell_type": "code",
   "execution_count": 21,
   "id": "9c8ad265",
   "metadata": {},
   "outputs": [
    {
     "name": "stdout",
     "output_type": "stream",
     "text": [
      "Index(['job_admin.', 'job_blue-collar', 'job_entrepreneur', 'job_housemaid',\n",
      "       'job_management', 'job_retired', 'job_self-employed', 'job_services',\n",
      "       'job_student', 'job_technician', 'job_unemployed', 'job_unknown',\n",
      "       'marital_divorced', 'marital_married', 'marital_single',\n",
      "       'marital_unknown', 'education_Basic', 'education_high.school',\n",
      "       'education_illiterate', 'education_professional.course',\n",
      "       'education_university.degree', 'education_unknown', 'default_no',\n",
      "       'default_unknown', 'default_yes', 'housing_no', 'housing_unknown',\n",
      "       'housing_yes', 'loan_no', 'loan_unknown', 'loan_yes',\n",
      "       'contact_cellular', 'contact_telephone', 'month_apr', 'month_aug',\n",
      "       'month_dec', 'month_jul', 'month_jun', 'month_mar', 'month_may',\n",
      "       'month_nov', 'month_oct', 'month_sep', 'day_of_week_fri',\n",
      "       'day_of_week_mon', 'day_of_week_thu', 'day_of_week_tue',\n",
      "       'day_of_week_wed', 'poutcome_failure', 'poutcome_nonexistent',\n",
      "       'poutcome_success'],\n",
      "      dtype='object')\n"
     ]
    }
   ],
   "source": [
    "# process encode categorical data \n",
    "df_encode = pd.DataFrame(encoder.fit_transform(df1[kol_cat]))\n",
    "##print(df_encode)\n",
    "df_encode.columns = encoder.get_feature_names(kol_cat)\n",
    "print(df_encode.columns)"
   ]
  },
  {
   "cell_type": "markdown",
   "id": "e9e7e392",
   "metadata": {},
   "source": [
    "Akan dihapus kolom-kolom yang tidak dibutuhkan untuk pengerjaan KNN Neighbour"
   ]
  },
  {
   "cell_type": "code",
   "execution_count": 22,
   "id": "1c91c924",
   "metadata": {},
   "outputs": [],
   "source": [
    "df1 = df1.drop(kol_cat ,axis=1)"
   ]
  },
  {
   "cell_type": "markdown",
   "id": "ba3308c0",
   "metadata": {},
   "source": [
    "Digunakn concatenate atau dengan pd.concat untuk menggabungkan antar objek pandas"
   ]
  },
  {
   "cell_type": "code",
   "execution_count": 23,
   "id": "9de1eb41",
   "metadata": {},
   "outputs": [
    {
     "data": {
      "text/html": [
       "<div>\n",
       "<style scoped>\n",
       "    .dataframe tbody tr th:only-of-type {\n",
       "        vertical-align: middle;\n",
       "    }\n",
       "\n",
       "    .dataframe tbody tr th {\n",
       "        vertical-align: top;\n",
       "    }\n",
       "\n",
       "    .dataframe thead th {\n",
       "        text-align: right;\n",
       "    }\n",
       "</style>\n",
       "<table border=\"1\" class=\"dataframe\">\n",
       "  <thead>\n",
       "    <tr style=\"text-align: right;\">\n",
       "      <th></th>\n",
       "      <th>job_admin.</th>\n",
       "      <th>job_blue-collar</th>\n",
       "      <th>job_entrepreneur</th>\n",
       "      <th>job_housemaid</th>\n",
       "      <th>job_management</th>\n",
       "      <th>job_retired</th>\n",
       "      <th>job_self-employed</th>\n",
       "      <th>job_services</th>\n",
       "      <th>job_student</th>\n",
       "      <th>job_technician</th>\n",
       "      <th>...</th>\n",
       "      <th>campaign</th>\n",
       "      <th>pdays</th>\n",
       "      <th>previous</th>\n",
       "      <th>emp.var.rate</th>\n",
       "      <th>cons.price.idx</th>\n",
       "      <th>cons.conf.idx</th>\n",
       "      <th>euribor3m</th>\n",
       "      <th>nr.employed</th>\n",
       "      <th>deposit</th>\n",
       "      <th>yes?</th>\n",
       "    </tr>\n",
       "  </thead>\n",
       "  <tbody>\n",
       "    <tr>\n",
       "      <th>0</th>\n",
       "      <td>0.0</td>\n",
       "      <td>1.0</td>\n",
       "      <td>0.0</td>\n",
       "      <td>0.0</td>\n",
       "      <td>0.0</td>\n",
       "      <td>0.0</td>\n",
       "      <td>0.0</td>\n",
       "      <td>0.0</td>\n",
       "      <td>0.0</td>\n",
       "      <td>0.0</td>\n",
       "      <td>...</td>\n",
       "      <td>2</td>\n",
       "      <td>999</td>\n",
       "      <td>0</td>\n",
       "      <td>-1.8</td>\n",
       "      <td>92.893</td>\n",
       "      <td>-46.2</td>\n",
       "      <td>1.313</td>\n",
       "      <td>5099.1</td>\n",
       "      <td>no</td>\n",
       "      <td>0</td>\n",
       "    </tr>\n",
       "    <tr>\n",
       "      <th>1</th>\n",
       "      <td>0.0</td>\n",
       "      <td>0.0</td>\n",
       "      <td>0.0</td>\n",
       "      <td>0.0</td>\n",
       "      <td>0.0</td>\n",
       "      <td>0.0</td>\n",
       "      <td>0.0</td>\n",
       "      <td>1.0</td>\n",
       "      <td>0.0</td>\n",
       "      <td>0.0</td>\n",
       "      <td>...</td>\n",
       "      <td>4</td>\n",
       "      <td>999</td>\n",
       "      <td>0</td>\n",
       "      <td>1.1</td>\n",
       "      <td>93.994</td>\n",
       "      <td>-36.4</td>\n",
       "      <td>4.855</td>\n",
       "      <td>5191.0</td>\n",
       "      <td>no</td>\n",
       "      <td>0</td>\n",
       "    </tr>\n",
       "    <tr>\n",
       "      <th>2</th>\n",
       "      <td>0.0</td>\n",
       "      <td>0.0</td>\n",
       "      <td>0.0</td>\n",
       "      <td>0.0</td>\n",
       "      <td>0.0</td>\n",
       "      <td>0.0</td>\n",
       "      <td>0.0</td>\n",
       "      <td>1.0</td>\n",
       "      <td>0.0</td>\n",
       "      <td>0.0</td>\n",
       "      <td>...</td>\n",
       "      <td>1</td>\n",
       "      <td>999</td>\n",
       "      <td>0</td>\n",
       "      <td>1.4</td>\n",
       "      <td>94.465</td>\n",
       "      <td>-41.8</td>\n",
       "      <td>4.962</td>\n",
       "      <td>5228.1</td>\n",
       "      <td>no</td>\n",
       "      <td>0</td>\n",
       "    </tr>\n",
       "    <tr>\n",
       "      <th>3</th>\n",
       "      <td>0.0</td>\n",
       "      <td>0.0</td>\n",
       "      <td>0.0</td>\n",
       "      <td>0.0</td>\n",
       "      <td>0.0</td>\n",
       "      <td>0.0</td>\n",
       "      <td>0.0</td>\n",
       "      <td>1.0</td>\n",
       "      <td>0.0</td>\n",
       "      <td>0.0</td>\n",
       "      <td>...</td>\n",
       "      <td>3</td>\n",
       "      <td>999</td>\n",
       "      <td>0</td>\n",
       "      <td>1.4</td>\n",
       "      <td>94.465</td>\n",
       "      <td>-41.8</td>\n",
       "      <td>4.959</td>\n",
       "      <td>5228.1</td>\n",
       "      <td>no</td>\n",
       "      <td>0</td>\n",
       "    </tr>\n",
       "    <tr>\n",
       "      <th>4</th>\n",
       "      <td>1.0</td>\n",
       "      <td>0.0</td>\n",
       "      <td>0.0</td>\n",
       "      <td>0.0</td>\n",
       "      <td>0.0</td>\n",
       "      <td>0.0</td>\n",
       "      <td>0.0</td>\n",
       "      <td>0.0</td>\n",
       "      <td>0.0</td>\n",
       "      <td>0.0</td>\n",
       "      <td>...</td>\n",
       "      <td>1</td>\n",
       "      <td>999</td>\n",
       "      <td>0</td>\n",
       "      <td>-0.1</td>\n",
       "      <td>93.200</td>\n",
       "      <td>-42.0</td>\n",
       "      <td>4.191</td>\n",
       "      <td>5195.8</td>\n",
       "      <td>no</td>\n",
       "      <td>0</td>\n",
       "    </tr>\n",
       "    <tr>\n",
       "      <th>...</th>\n",
       "      <td>...</td>\n",
       "      <td>...</td>\n",
       "      <td>...</td>\n",
       "      <td>...</td>\n",
       "      <td>...</td>\n",
       "      <td>...</td>\n",
       "      <td>...</td>\n",
       "      <td>...</td>\n",
       "      <td>...</td>\n",
       "      <td>...</td>\n",
       "      <td>...</td>\n",
       "      <td>...</td>\n",
       "      <td>...</td>\n",
       "      <td>...</td>\n",
       "      <td>...</td>\n",
       "      <td>...</td>\n",
       "      <td>...</td>\n",
       "      <td>...</td>\n",
       "      <td>...</td>\n",
       "      <td>...</td>\n",
       "      <td>...</td>\n",
       "    </tr>\n",
       "    <tr>\n",
       "      <th>4114</th>\n",
       "      <td>1.0</td>\n",
       "      <td>0.0</td>\n",
       "      <td>0.0</td>\n",
       "      <td>0.0</td>\n",
       "      <td>0.0</td>\n",
       "      <td>0.0</td>\n",
       "      <td>0.0</td>\n",
       "      <td>0.0</td>\n",
       "      <td>0.0</td>\n",
       "      <td>0.0</td>\n",
       "      <td>...</td>\n",
       "      <td>1</td>\n",
       "      <td>999</td>\n",
       "      <td>0</td>\n",
       "      <td>1.4</td>\n",
       "      <td>93.918</td>\n",
       "      <td>-42.7</td>\n",
       "      <td>4.958</td>\n",
       "      <td>5228.1</td>\n",
       "      <td>no</td>\n",
       "      <td>0</td>\n",
       "    </tr>\n",
       "    <tr>\n",
       "      <th>4115</th>\n",
       "      <td>1.0</td>\n",
       "      <td>0.0</td>\n",
       "      <td>0.0</td>\n",
       "      <td>0.0</td>\n",
       "      <td>0.0</td>\n",
       "      <td>0.0</td>\n",
       "      <td>0.0</td>\n",
       "      <td>0.0</td>\n",
       "      <td>0.0</td>\n",
       "      <td>0.0</td>\n",
       "      <td>...</td>\n",
       "      <td>1</td>\n",
       "      <td>999</td>\n",
       "      <td>0</td>\n",
       "      <td>1.4</td>\n",
       "      <td>93.918</td>\n",
       "      <td>-42.7</td>\n",
       "      <td>4.959</td>\n",
       "      <td>5228.1</td>\n",
       "      <td>no</td>\n",
       "      <td>0</td>\n",
       "    </tr>\n",
       "    <tr>\n",
       "      <th>4116</th>\n",
       "      <td>0.0</td>\n",
       "      <td>0.0</td>\n",
       "      <td>0.0</td>\n",
       "      <td>0.0</td>\n",
       "      <td>0.0</td>\n",
       "      <td>0.0</td>\n",
       "      <td>0.0</td>\n",
       "      <td>0.0</td>\n",
       "      <td>1.0</td>\n",
       "      <td>0.0</td>\n",
       "      <td>...</td>\n",
       "      <td>2</td>\n",
       "      <td>999</td>\n",
       "      <td>1</td>\n",
       "      <td>-1.8</td>\n",
       "      <td>92.893</td>\n",
       "      <td>-46.2</td>\n",
       "      <td>1.354</td>\n",
       "      <td>5099.1</td>\n",
       "      <td>no</td>\n",
       "      <td>0</td>\n",
       "    </tr>\n",
       "    <tr>\n",
       "      <th>4117</th>\n",
       "      <td>1.0</td>\n",
       "      <td>0.0</td>\n",
       "      <td>0.0</td>\n",
       "      <td>0.0</td>\n",
       "      <td>0.0</td>\n",
       "      <td>0.0</td>\n",
       "      <td>0.0</td>\n",
       "      <td>0.0</td>\n",
       "      <td>0.0</td>\n",
       "      <td>0.0</td>\n",
       "      <td>...</td>\n",
       "      <td>1</td>\n",
       "      <td>999</td>\n",
       "      <td>0</td>\n",
       "      <td>1.4</td>\n",
       "      <td>93.444</td>\n",
       "      <td>-36.1</td>\n",
       "      <td>4.966</td>\n",
       "      <td>5228.1</td>\n",
       "      <td>no</td>\n",
       "      <td>0</td>\n",
       "    </tr>\n",
       "    <tr>\n",
       "      <th>4118</th>\n",
       "      <td>0.0</td>\n",
       "      <td>0.0</td>\n",
       "      <td>0.0</td>\n",
       "      <td>0.0</td>\n",
       "      <td>1.0</td>\n",
       "      <td>0.0</td>\n",
       "      <td>0.0</td>\n",
       "      <td>0.0</td>\n",
       "      <td>0.0</td>\n",
       "      <td>0.0</td>\n",
       "      <td>...</td>\n",
       "      <td>1</td>\n",
       "      <td>999</td>\n",
       "      <td>0</td>\n",
       "      <td>-0.1</td>\n",
       "      <td>93.200</td>\n",
       "      <td>-42.0</td>\n",
       "      <td>4.120</td>\n",
       "      <td>5195.8</td>\n",
       "      <td>no</td>\n",
       "      <td>0</td>\n",
       "    </tr>\n",
       "  </tbody>\n",
       "</table>\n",
       "<p>4119 rows × 63 columns</p>\n",
       "</div>"
      ],
      "text/plain": [
       "      job_admin.  job_blue-collar  job_entrepreneur  job_housemaid  \\\n",
       "0            0.0              1.0               0.0            0.0   \n",
       "1            0.0              0.0               0.0            0.0   \n",
       "2            0.0              0.0               0.0            0.0   \n",
       "3            0.0              0.0               0.0            0.0   \n",
       "4            1.0              0.0               0.0            0.0   \n",
       "...          ...              ...               ...            ...   \n",
       "4114         1.0              0.0               0.0            0.0   \n",
       "4115         1.0              0.0               0.0            0.0   \n",
       "4116         0.0              0.0               0.0            0.0   \n",
       "4117         1.0              0.0               0.0            0.0   \n",
       "4118         0.0              0.0               0.0            0.0   \n",
       "\n",
       "      job_management  job_retired  job_self-employed  job_services  \\\n",
       "0                0.0          0.0                0.0           0.0   \n",
       "1                0.0          0.0                0.0           1.0   \n",
       "2                0.0          0.0                0.0           1.0   \n",
       "3                0.0          0.0                0.0           1.0   \n",
       "4                0.0          0.0                0.0           0.0   \n",
       "...              ...          ...                ...           ...   \n",
       "4114             0.0          0.0                0.0           0.0   \n",
       "4115             0.0          0.0                0.0           0.0   \n",
       "4116             0.0          0.0                0.0           0.0   \n",
       "4117             0.0          0.0                0.0           0.0   \n",
       "4118             1.0          0.0                0.0           0.0   \n",
       "\n",
       "      job_student  job_technician  ...  campaign  pdays  previous  \\\n",
       "0             0.0             0.0  ...         2    999         0   \n",
       "1             0.0             0.0  ...         4    999         0   \n",
       "2             0.0             0.0  ...         1    999         0   \n",
       "3             0.0             0.0  ...         3    999         0   \n",
       "4             0.0             0.0  ...         1    999         0   \n",
       "...           ...             ...  ...       ...    ...       ...   \n",
       "4114          0.0             0.0  ...         1    999         0   \n",
       "4115          0.0             0.0  ...         1    999         0   \n",
       "4116          1.0             0.0  ...         2    999         1   \n",
       "4117          0.0             0.0  ...         1    999         0   \n",
       "4118          0.0             0.0  ...         1    999         0   \n",
       "\n",
       "      emp.var.rate  cons.price.idx  cons.conf.idx  euribor3m  nr.employed  \\\n",
       "0             -1.8          92.893          -46.2      1.313       5099.1   \n",
       "1              1.1          93.994          -36.4      4.855       5191.0   \n",
       "2              1.4          94.465          -41.8      4.962       5228.1   \n",
       "3              1.4          94.465          -41.8      4.959       5228.1   \n",
       "4             -0.1          93.200          -42.0      4.191       5195.8   \n",
       "...            ...             ...            ...        ...          ...   \n",
       "4114           1.4          93.918          -42.7      4.958       5228.1   \n",
       "4115           1.4          93.918          -42.7      4.959       5228.1   \n",
       "4116          -1.8          92.893          -46.2      1.354       5099.1   \n",
       "4117           1.4          93.444          -36.1      4.966       5228.1   \n",
       "4118          -0.1          93.200          -42.0      4.120       5195.8   \n",
       "\n",
       "      deposit  yes?  \n",
       "0          no     0  \n",
       "1          no     0  \n",
       "2          no     0  \n",
       "3          no     0  \n",
       "4          no     0  \n",
       "...       ...   ...  \n",
       "4114       no     0  \n",
       "4115       no     0  \n",
       "4116       no     0  \n",
       "4117       no     0  \n",
       "4118       no     0  \n",
       "\n",
       "[4119 rows x 63 columns]"
      ]
     },
     "execution_count": 23,
     "metadata": {},
     "output_type": "execute_result"
    }
   ],
   "source": [
    "df2 = pd.concat([df_encode, df1], axis=1)\n",
    "df2"
   ]
  },
  {
   "cell_type": "markdown",
   "id": "8a639a8e",
   "metadata": {},
   "source": [
    "Kita dapat melakukan encode nilai target dengan menerapkan fungsi lambda/in-line sederhana pada kolom. "
   ]
  },
  {
   "cell_type": "code",
   "execution_count": 24,
   "id": "a293fa11",
   "metadata": {},
   "outputs": [
    {
     "name": "stdout",
     "output_type": "stream",
     "text": [
      "(4119, 63)\n"
     ]
    },
    {
     "data": {
      "text/html": [
       "<div>\n",
       "<style scoped>\n",
       "    .dataframe tbody tr th:only-of-type {\n",
       "        vertical-align: middle;\n",
       "    }\n",
       "\n",
       "    .dataframe tbody tr th {\n",
       "        vertical-align: top;\n",
       "    }\n",
       "\n",
       "    .dataframe thead th {\n",
       "        text-align: right;\n",
       "    }\n",
       "</style>\n",
       "<table border=\"1\" class=\"dataframe\">\n",
       "  <thead>\n",
       "    <tr style=\"text-align: right;\">\n",
       "      <th></th>\n",
       "      <th>job_admin.</th>\n",
       "      <th>job_blue-collar</th>\n",
       "      <th>job_entrepreneur</th>\n",
       "      <th>job_housemaid</th>\n",
       "      <th>job_management</th>\n",
       "      <th>job_retired</th>\n",
       "      <th>job_self-employed</th>\n",
       "      <th>job_services</th>\n",
       "      <th>job_student</th>\n",
       "      <th>job_technician</th>\n",
       "      <th>...</th>\n",
       "      <th>campaign</th>\n",
       "      <th>pdays</th>\n",
       "      <th>previous</th>\n",
       "      <th>emp.var.rate</th>\n",
       "      <th>cons.price.idx</th>\n",
       "      <th>cons.conf.idx</th>\n",
       "      <th>euribor3m</th>\n",
       "      <th>nr.employed</th>\n",
       "      <th>deposit</th>\n",
       "      <th>yes?</th>\n",
       "    </tr>\n",
       "  </thead>\n",
       "  <tbody>\n",
       "    <tr>\n",
       "      <th>0</th>\n",
       "      <td>0.0</td>\n",
       "      <td>1.0</td>\n",
       "      <td>0.0</td>\n",
       "      <td>0.0</td>\n",
       "      <td>0.0</td>\n",
       "      <td>0.0</td>\n",
       "      <td>0.0</td>\n",
       "      <td>0.0</td>\n",
       "      <td>0.0</td>\n",
       "      <td>0.0</td>\n",
       "      <td>...</td>\n",
       "      <td>2</td>\n",
       "      <td>999</td>\n",
       "      <td>0</td>\n",
       "      <td>-1.8</td>\n",
       "      <td>92.893</td>\n",
       "      <td>-46.2</td>\n",
       "      <td>1.313</td>\n",
       "      <td>5099.1</td>\n",
       "      <td>0</td>\n",
       "      <td>0</td>\n",
       "    </tr>\n",
       "    <tr>\n",
       "      <th>1</th>\n",
       "      <td>0.0</td>\n",
       "      <td>0.0</td>\n",
       "      <td>0.0</td>\n",
       "      <td>0.0</td>\n",
       "      <td>0.0</td>\n",
       "      <td>0.0</td>\n",
       "      <td>0.0</td>\n",
       "      <td>1.0</td>\n",
       "      <td>0.0</td>\n",
       "      <td>0.0</td>\n",
       "      <td>...</td>\n",
       "      <td>4</td>\n",
       "      <td>999</td>\n",
       "      <td>0</td>\n",
       "      <td>1.1</td>\n",
       "      <td>93.994</td>\n",
       "      <td>-36.4</td>\n",
       "      <td>4.855</td>\n",
       "      <td>5191.0</td>\n",
       "      <td>0</td>\n",
       "      <td>0</td>\n",
       "    </tr>\n",
       "    <tr>\n",
       "      <th>2</th>\n",
       "      <td>0.0</td>\n",
       "      <td>0.0</td>\n",
       "      <td>0.0</td>\n",
       "      <td>0.0</td>\n",
       "      <td>0.0</td>\n",
       "      <td>0.0</td>\n",
       "      <td>0.0</td>\n",
       "      <td>1.0</td>\n",
       "      <td>0.0</td>\n",
       "      <td>0.0</td>\n",
       "      <td>...</td>\n",
       "      <td>1</td>\n",
       "      <td>999</td>\n",
       "      <td>0</td>\n",
       "      <td>1.4</td>\n",
       "      <td>94.465</td>\n",
       "      <td>-41.8</td>\n",
       "      <td>4.962</td>\n",
       "      <td>5228.1</td>\n",
       "      <td>0</td>\n",
       "      <td>0</td>\n",
       "    </tr>\n",
       "    <tr>\n",
       "      <th>3</th>\n",
       "      <td>0.0</td>\n",
       "      <td>0.0</td>\n",
       "      <td>0.0</td>\n",
       "      <td>0.0</td>\n",
       "      <td>0.0</td>\n",
       "      <td>0.0</td>\n",
       "      <td>0.0</td>\n",
       "      <td>1.0</td>\n",
       "      <td>0.0</td>\n",
       "      <td>0.0</td>\n",
       "      <td>...</td>\n",
       "      <td>3</td>\n",
       "      <td>999</td>\n",
       "      <td>0</td>\n",
       "      <td>1.4</td>\n",
       "      <td>94.465</td>\n",
       "      <td>-41.8</td>\n",
       "      <td>4.959</td>\n",
       "      <td>5228.1</td>\n",
       "      <td>0</td>\n",
       "      <td>0</td>\n",
       "    </tr>\n",
       "    <tr>\n",
       "      <th>4</th>\n",
       "      <td>1.0</td>\n",
       "      <td>0.0</td>\n",
       "      <td>0.0</td>\n",
       "      <td>0.0</td>\n",
       "      <td>0.0</td>\n",
       "      <td>0.0</td>\n",
       "      <td>0.0</td>\n",
       "      <td>0.0</td>\n",
       "      <td>0.0</td>\n",
       "      <td>0.0</td>\n",
       "      <td>...</td>\n",
       "      <td>1</td>\n",
       "      <td>999</td>\n",
       "      <td>0</td>\n",
       "      <td>-0.1</td>\n",
       "      <td>93.200</td>\n",
       "      <td>-42.0</td>\n",
       "      <td>4.191</td>\n",
       "      <td>5195.8</td>\n",
       "      <td>0</td>\n",
       "      <td>0</td>\n",
       "    </tr>\n",
       "  </tbody>\n",
       "</table>\n",
       "<p>5 rows × 63 columns</p>\n",
       "</div>"
      ],
      "text/plain": [
       "   job_admin.  job_blue-collar  job_entrepreneur  job_housemaid  \\\n",
       "0         0.0              1.0               0.0            0.0   \n",
       "1         0.0              0.0               0.0            0.0   \n",
       "2         0.0              0.0               0.0            0.0   \n",
       "3         0.0              0.0               0.0            0.0   \n",
       "4         1.0              0.0               0.0            0.0   \n",
       "\n",
       "   job_management  job_retired  job_self-employed  job_services  job_student  \\\n",
       "0             0.0          0.0                0.0           0.0          0.0   \n",
       "1             0.0          0.0                0.0           1.0          0.0   \n",
       "2             0.0          0.0                0.0           1.0          0.0   \n",
       "3             0.0          0.0                0.0           1.0          0.0   \n",
       "4             0.0          0.0                0.0           0.0          0.0   \n",
       "\n",
       "   job_technician  ...  campaign  pdays  previous  emp.var.rate  \\\n",
       "0             0.0  ...         2    999         0          -1.8   \n",
       "1             0.0  ...         4    999         0           1.1   \n",
       "2             0.0  ...         1    999         0           1.4   \n",
       "3             0.0  ...         3    999         0           1.4   \n",
       "4             0.0  ...         1    999         0          -0.1   \n",
       "\n",
       "   cons.price.idx  cons.conf.idx  euribor3m  nr.employed  deposit  yes?  \n",
       "0          92.893          -46.2      1.313       5099.1        0     0  \n",
       "1          93.994          -36.4      4.855       5191.0        0     0  \n",
       "2          94.465          -41.8      4.962       5228.1        0     0  \n",
       "3          94.465          -41.8      4.959       5228.1        0     0  \n",
       "4          93.200          -42.0      4.191       5195.8        0     0  \n",
       "\n",
       "[5 rows x 63 columns]"
      ]
     },
     "execution_count": 24,
     "metadata": {},
     "output_type": "execute_result"
    }
   ],
   "source": [
    "# Encode target value\n",
    "df2['deposit'] = df2['deposit'].apply(lambda x: 1 if x == 'yes' else 0)\n",
    "\n",
    "print(df2.shape)\n",
    "df2.head()"
   ]
  },
  {
   "cell_type": "markdown",
   "id": "6bb9894c",
   "metadata": {},
   "source": [
    "didefinisikan nilai feature dan target seperti di bawah ini"
   ]
  },
  {
   "cell_type": "code",
   "execution_count": 25,
   "id": "d65678e9",
   "metadata": {},
   "outputs": [],
   "source": [
    "feature = df2.drop('deposit', axis=1)"
   ]
  },
  {
   "cell_type": "code",
   "execution_count": 26,
   "id": "bad402dd",
   "metadata": {},
   "outputs": [],
   "source": [
    "target = df2['deposit']"
   ]
  },
  {
   "cell_type": "markdown",
   "id": "d8abe924",
   "metadata": {},
   "source": [
    "Akan dipisahkan dataset untuk data training dan dataset"
   ]
  },
  {
   "cell_type": "code",
   "execution_count": 27,
   "id": "72285c01",
   "metadata": {},
   "outputs": [
    {
     "name": "stdout",
     "output_type": "stream",
     "text": [
      "Shape training feature: (3295, 62)\n",
      "Shape testing feature: (824, 62)\n",
      "Shape training label: (3295,)\n",
      "Shape training label: (824,)\n"
     ]
    }
   ],
   "source": [
    "# Set Training and Testing Data\n",
    "from sklearn.model_selection import train_test_split\n",
    "X_train, X_test, y_train, y_test = train_test_split(feature , target, \n",
    "                                                    shuffle = True, \n",
    "                                                    test_size=0.2, \n",
    "                                                    random_state=1)\n",
    "\n",
    "\n",
    "print('Shape training feature:', X_train.shape)\n",
    "print('Shape testing feature:', X_test.shape)\n",
    "print('Shape training label:', y_train.shape)\n",
    "print('Shape training label:', y_test.shape)"
   ]
  },
  {
   "cell_type": "markdown",
   "id": "df48cd2f",
   "metadata": {},
   "source": [
    "Akan diimport knearest neigbors classifier model, lalu dilanjut dengan membuat KNN Classifier dengan n = 3, train model dengan menggunakan training set lalu memprediksi respon dari dataset yang diuji"
   ]
  },
  {
   "cell_type": "code",
   "execution_count": 28,
   "id": "aa538bac",
   "metadata": {},
   "outputs": [],
   "source": [
    "from sklearn.neighbors import KNeighborsClassifier\n",
    "\n",
    "knn = KNeighborsClassifier(n_neighbors=3)\n",
    "\n",
    "knn.fit(X_train, y_train)\n",
    "\n",
    "y_pred = knn.predict(X_test)"
   ]
  },
  {
   "cell_type": "markdown",
   "id": "fd902a45",
   "metadata": {},
   "source": [
    "Metrics akan diimport terlebih dahulu dari sklearn sebelum menentukan keakuratan dari KNN Neigbors"
   ]
  },
  {
   "cell_type": "code",
   "execution_count": 29,
   "id": "fd223b21",
   "metadata": {},
   "outputs": [
    {
     "name": "stdout",
     "output_type": "stream",
     "text": [
      "Accuracy: 0.9101941747572816\n"
     ]
    }
   ],
   "source": [
    "from sklearn import metrics\n",
    "\n",
    "print(\"Accuracy:\",metrics.accuracy_score(y_test, y_pred))"
   ]
  },
  {
   "cell_type": "markdown",
   "id": "b32f2929",
   "metadata": {},
   "source": [
    "Di atas untuk akurasi metrics KNN Neigbours sebesar 92%\n",
    "Dengan cara yang sama, akan dicoba untuk n_neigbours = 7"
   ]
  },
  {
   "cell_type": "code",
   "execution_count": 30,
   "id": "c0065790",
   "metadata": {},
   "outputs": [],
   "source": [
    "from sklearn.neighbors import KNeighborsClassifier\n",
    "\n",
    "knn = KNeighborsClassifier(n_neighbors=7)\n",
    "\n",
    "knn.fit(X_train, y_train)\n",
    "\n",
    "y_pred = knn.predict(X_test)"
   ]
  },
  {
   "cell_type": "code",
   "execution_count": 31,
   "id": "3e187ebd",
   "metadata": {},
   "outputs": [
    {
     "name": "stdout",
     "output_type": "stream",
     "text": [
      "Accuracy: 0.9186893203883495\n"
     ]
    }
   ],
   "source": [
    "from sklearn import metrics\n",
    "\n",
    "print(\"Accuracy:\",metrics.accuracy_score(y_test, y_pred))"
   ]
  },
  {
   "cell_type": "markdown",
   "id": "07faa3a1",
   "metadata": {},
   "source": [
    "Ternyata, keakuratannya berkurang apabila n-nya naik menjadi 7\n",
    "Untuk mengetahui error yang ada pada KNN Neigbours, dapat dilakukan dengan mendefinisikan eror speerti di bawah ini"
   ]
  },
  {
   "cell_type": "code",
   "execution_count": 32,
   "id": "a96e6bb7",
   "metadata": {},
   "outputs": [
    {
     "name": "stdout",
     "output_type": "stream",
     "text": [
      "Error terkecil yang didapatkan sebesar:  0.07645631067961164\n"
     ]
    }
   ],
   "source": [
    "error = []\n",
    "\n",
    "# Calculating error for K values between 1 and 40\n",
    "for i in range(1, 40):  \n",
    "    knn = KNeighborsClassifier(n_neighbors=i)\n",
    "    knn.fit(X_train, y_train)\n",
    "    pred_i = knn.predict(X_test)\n",
    "    error.append(np.mean(pred_i != y_test))\n",
    "\n",
    "min(error)\n",
    "print('Error terkecil yang didapatkan sebesar: ',min(error))"
   ]
  },
  {
   "cell_type": "markdown",
   "id": "30a17e17",
   "metadata": {},
   "source": [
    "Lalu divisualisasikan dengan menggunakan grafik"
   ]
  },
  {
   "cell_type": "code",
   "execution_count": 33,
   "id": "397e011f",
   "metadata": {},
   "outputs": [
    {
     "data": {
      "text/plain": [
       "Text(0, 0.5, 'Error mean')"
      ]
     },
     "execution_count": 33,
     "metadata": {},
     "output_type": "execute_result"
    },
    {
     "data": {
      "image/png": "[encoded data removed]",
      "text/plain": [
       "<Figure size 864x432 with 1 Axes>"
      ]
     },
     "metadata": {
      "needs_background": "light"
     },
     "output_type": "display_data"
    }
   ],
   "source": [
    "plt.figure(figsize=(12, 6))  \n",
    "plt.plot(range(1, 40), error, color='red', linestyle='dashed', marker='o',  \n",
    "         markerfacecolor='blue', markersize=10)\n",
    "plt.title('Error Rate K')  \n",
    "plt.xlabel('K')  \n",
    "plt.ylabel('Error mean')"
   ]
  },
  {
   "cell_type": "code",
   "execution_count": 34,
   "id": "29e411b8",
   "metadata": {},
   "outputs": [
    {
     "name": "stdout",
     "output_type": "stream",
     "text": [
      "Accuracy: 0.912621359223301\n"
     ]
    }
   ],
   "source": [
    "#Create KNN Classifier\n",
    "knn = KNeighborsClassifier(n_neighbors=i)\n",
    "\n",
    "#Train the model using the training sets\n",
    "knn.fit(X_train, y_train)\n",
    "\n",
    "#Predict the response for test dataset\n",
    "y_pred = knn.predict(X_test)\n",
    "\n",
    "#Import scikit-learn metrics module for accuracy calculation\n",
    "from sklearn import metrics\n",
    "\n",
    "# Model Accuracy, how often is the classifier correct?\n",
    "print(\"Accuracy:\",metrics.accuracy_score(y_test, y_pred))"
   ]
  },
  {
   "cell_type": "markdown",
   "id": "bb45fb9a",
   "metadata": {},
   "source": [
    "Didapati bahwa keakuratannya apabila n_neighbors = i, maka akurasinya sebesar 91,7%"
   ]
  },
  {
   "cell_type": "markdown",
   "id": "9e494930",
   "metadata": {},
   "source": [
    "### Support Vector Machine\n",
    "Diimport library SVM yang dibutuhkan"
   ]
  },
  {
   "cell_type": "code",
   "execution_count": 35,
   "id": "76013c5c",
   "metadata": {},
   "outputs": [],
   "source": [
    "import pandas as pd\n",
    "from sklearn import datasets\n",
    "from sklearn.model_selection import train_test_split as tts\n",
    "from sklearn import svm\n",
    "from sklearn import metrics"
   ]
  },
  {
   "cell_type": "markdown",
   "id": "96649418",
   "metadata": {},
   "source": [
    "Didefinisikan terlebih dahulu X dan Y sebelum diolah untuk SVM"
   ]
  },
  {
   "cell_type": "markdown",
   "id": "b712dd7e",
   "metadata": {},
   "source": [
    "Akan dipisahkan dataset untuk data training dan dataset"
   ]
  },
  {
   "cell_type": "code",
   "execution_count": 57,
   "id": "dbe17192",
   "metadata": {},
   "outputs": [],
   "source": [
    "X_train, X_test, Y_train, Y_test = train_test_split(feature, target, test_size = 0.20)"
   ]
  },
  {
   "cell_type": "markdown",
   "id": "3d05e962",
   "metadata": {},
   "source": [
    "Mari kita perkirakan seberapa akurat pengklasifikasi atau model dapat memprediksi kira kira apakah deposit tersebut.\n",
    "\n",
    "Akurasi dapat dihitung dengan membandingkan nilai set test aktual dan nilai prediksi."
   ]
  },
  {
   "cell_type": "code",
   "execution_count": 58,
   "id": "6f888eb8",
   "metadata": {},
   "outputs": [],
   "source": [
    "#Import svm model\n",
    "from sklearn import svm \n",
    "\n",
    "#Create a svm Classifier\n",
    "df4 = svm.SVC(kernel='linear') # Linear Kernel\n",
    "\n",
    "#Train the model using the training sets\n",
    "df4.fit(X_train, Y_train) \n",
    "\n",
    "#Predict the response for test dataset\n",
    "y_pred = df4.predict(X_test)"
   ]
  },
  {
   "cell_type": "markdown",
   "id": "74d98b0b",
   "metadata": {},
   "source": [
    "Untuk mengetahui classification report dapat menggunakan confusion_matrix() dan classification report()"
   ]
  },
  {
   "cell_type": "code",
   "execution_count": 60,
   "id": "2037d6bf",
   "metadata": {},
   "outputs": [
    {
     "name": "stdout",
     "output_type": "stream",
     "text": [
      "              precision    recall  f1-score   support\n",
      "\n",
      "           0       1.00      1.00      1.00       728\n",
      "           1       1.00      1.00      1.00        96\n",
      "\n",
      "    accuracy                           1.00       824\n",
      "   macro avg       1.00      1.00      1.00       824\n",
      "weighted avg       1.00      1.00      1.00       824\n",
      "\n"
     ]
    }
   ],
   "source": [
    "print(classification_report(Y_test,y_pred))"
   ]
  },
  {
   "cell_type": "code",
   "execution_count": 125,
   "id": "69433b1b",
   "metadata": {},
   "outputs": [
    {
     "name": "stdout",
     "output_type": "stream",
     "text": [
      "Accuracy: 1.0\n"
     ]
    }
   ],
   "source": [
    "print(\"Accuracy:\", metrics.accuracy_score(Y_test, y_pred))"
   ]
  },
  {
   "cell_type": "markdown",
   "id": "e4176d7d",
   "metadata": {},
   "source": [
    "Diperoleh keakuratannya seperti pada output di atas"
   ]
  },
  {
   "cell_type": "code",
   "execution_count": 126,
   "id": "331e309a",
   "metadata": {},
   "outputs": [
    {
     "name": "stdout",
     "output_type": "stream",
     "text": [
      "Precision: 1.0\n",
      "Recall: 1.0\n"
     ]
    }
   ],
   "source": [
    "# Model Precision: what percentage of positive tuples are labeled as such?\n",
    "print(\"Precision:\", metrics.precision_score(Y_test, y_pred)) \n",
    "\n",
    "# Model Recall: what percentage of positive tuples are labelled as such?\n",
    "print(\"Recall:\", metrics.recall_score(Y_test, y_pred))"
   ]
  },
  {
   "cell_type": "markdown",
   "id": "ec5f2ef8",
   "metadata": {},
   "source": [
    "Diperoleh precision dan recall seperti pada output di atas"
   ]
  },
  {
   "cell_type": "code",
   "execution_count": null,
   "id": "111a1519",
   "metadata": {},
   "outputs": [],
   "source": [
    "X_train, X_test, y_train, y_test = tts(cancer.data, cancer.target, test_size=25/100,random_state=109)"
   ]
  },
  {
   "cell_type": "markdown",
   "id": "24b548ed",
   "metadata": {},
   "source": [
    "### Decision Tree"
   ]
  },
  {
   "cell_type": "markdown",
   "id": "83bd6c9d",
   "metadata": {},
   "source": [
    "Diimport data yang dibutuhkan untuk decision tree"
   ]
  },
  {
   "cell_type": "code",
   "execution_count": 37,
   "id": "699c4acd",
   "metadata": {},
   "outputs": [],
   "source": [
    "from sklearn import tree"
   ]
  },
  {
   "cell_type": "code",
   "execution_count": 38,
   "id": "32459ea4",
   "metadata": {},
   "outputs": [],
   "source": [
    "from sklearn.tree import DecisionTreeClassifier"
   ]
  },
  {
   "cell_type": "markdown",
   "id": "62a54062",
   "metadata": {},
   "source": [
    "Akan didefinisikan terlebih dahulu X dan Y"
   ]
  },
  {
   "cell_type": "code",
   "execution_count": 36,
   "id": "9b69924a",
   "metadata": {},
   "outputs": [],
   "source": [
    "X = df[['duration', 'campaign', 'pdays', 'previous']]\n",
    "Y = df['yes?']"
   ]
  },
  {
   "cell_type": "markdown",
   "id": "dfd5bf95",
   "metadata": {},
   "source": [
    "Akan dipisahkan data untuk train data dan dataset"
   ]
  },
  {
   "cell_type": "code",
   "execution_count": 39,
   "id": "fb433726",
   "metadata": {},
   "outputs": [],
   "source": [
    "# Split dataset into training set and test set\n",
    "X_train, X_test, Y_train, Y_test = train_test_split(X, Y, test_size=0.3, random_state=1) # 70% training and 30% test"
   ]
  },
  {
   "cell_type": "markdown",
   "id": "dc1bf137",
   "metadata": {},
   "source": [
    "Dibuat objek decision tree classifier, train, kemudian diprediksi respon dari dataset yang diuji"
   ]
  },
  {
   "cell_type": "code",
   "execution_count": 40,
   "id": "40b19226",
   "metadata": {},
   "outputs": [],
   "source": [
    "# Create Decision Tree classifer object\n",
    "clf = DecisionTreeClassifier()\n",
    "\n",
    "# Train Decision Tree Classifer\n",
    "clf = clf.fit(X_train,Y_train)\n",
    "\n",
    "#Predict the response for test dataset\n",
    "Y_pred = clf.predict(X_test)"
   ]
  },
  {
   "cell_type": "markdown",
   "id": "cd682415",
   "metadata": {},
   "source": [
    "Diketahui bawha keakuratannya sebesar 88%"
   ]
  },
  {
   "cell_type": "code",
   "execution_count": 41,
   "id": "1d745b3e",
   "metadata": {},
   "outputs": [
    {
     "name": "stdout",
     "output_type": "stream",
     "text": [
      "Accuracy: 0.889967637540453\n"
     ]
    }
   ],
   "source": [
    "print(\"Accuracy:\",metrics.accuracy_score(Y_test, Y_pred))"
   ]
  },
  {
   "cell_type": "markdown",
   "id": "fadb271e",
   "metadata": {},
   "source": [
    "## Random Forest"
   ]
  },
  {
   "cell_type": "markdown",
   "id": "cc17d306",
   "metadata": {},
   "source": [
    "Diimport library yang dibutuhkan untuk random forest, lalu dibuat gaussian classifier, train, kemudian diprediksi dengan menggunakan .predict()"
   ]
  },
  {
   "cell_type": "code",
   "execution_count": 42,
   "id": "3647e491",
   "metadata": {},
   "outputs": [],
   "source": [
    "from sklearn.ensemble import RandomForestClassifier\n",
    "\n",
    "X = df[['duration', 'campaign', 'pdays', 'previous']]\n",
    "Y = df['yes?']\n",
    "\n",
    "# Create a Gaussian Classifier\n",
    "clf1 = RandomForestClassifier(n_estimators=100)\n",
    "\n",
    "#Train the model using the trainging sets y_pred=clf.predict(X_test)\n",
    "clf1.fit(X_train, Y_train)\n",
    "\n",
    "Y_pred=clf1.predict(X_test)"
   ]
  },
  {
   "cell_type": "markdown",
   "id": "9946cc46",
   "metadata": {},
   "source": [
    "untuk model accuracy, seberapa sering classifier benar?"
   ]
  },
  {
   "cell_type": "code",
   "execution_count": 43,
   "id": "59bac033",
   "metadata": {},
   "outputs": [
    {
     "name": "stdout",
     "output_type": "stream",
     "text": [
      "Accuracy: 0.8972491909385113\n"
     ]
    }
   ],
   "source": [
    "from sklearn import metrics\n",
    "\n",
    "print(\"Accuracy:\",metrics.accuracy_score(Y_test, Y_pred))"
   ]
  },
  {
   "cell_type": "markdown",
   "id": "97795005",
   "metadata": {},
   "source": [
    "Untuk feature importants akan didefiniskan seperti di bawwh ini, digunakan untuk melihat variabel manakah yang paling rendah dari yang lain."
   ]
  },
  {
   "cell_type": "code",
   "execution_count": 61,
   "id": "e8ec4af6",
   "metadata": {},
   "outputs": [
    {
     "data": {
      "text/plain": [
       "age         0.744743\n",
       "pdays       0.124725\n",
       "campaign    0.080729\n",
       "previous    0.049803\n",
       "dtype: float64"
      ]
     },
     "execution_count": 61,
     "metadata": {},
     "output_type": "execute_result"
    }
   ],
   "source": [
    "import pandas as pd\n",
    "feature_imp = pd.Series(clf1.feature_importances_,index=num_cols).sort_values(ascending=False)\n",
    "feature_imp"
   ]
  },
  {
   "cell_type": "markdown",
   "id": "dfb91356",
   "metadata": {},
   "source": [
    "Untuk memvisualisasikan feature importants dengan bar plot seperti di bawah ini"
   ]
  },
  {
   "cell_type": "code",
   "execution_count": 62,
   "id": "d825ed79",
   "metadata": {},
   "outputs": [
    {
     "name": "stderr",
     "output_type": "stream",
     "text": [
      "No handles with labels found to put in legend.\n"
     ]
    },
    {
     "data": {
      "image/png": "[encoded data removed]",
      "text/plain": [
       "<Figure size 432x288 with 1 Axes>"
      ]
     },
     "metadata": {
      "needs_background": "light"
     },
     "output_type": "display_data"
    }
   ],
   "source": [
    "import matplotlib.pyplot as plt\n",
    "import seaborn as sns\n",
    "%matplotlib inline\n",
    "\n",
    "# Creating a bar plot\n",
    "sns.barplot(x=feature_imp, y=feature_imp.index)\n",
    "\n",
    "# Add labels to your graph\n",
    "plt.xlabel('Feature Importance Score')\n",
    "plt.ylabel('Features')\n",
    "plt.title(\"Visualizing Important Features\")\n",
    "plt.legend()\n",
    "plt.show()"
   ]
  },
  {
   "cell_type": "markdown",
   "id": "028bdac2",
   "metadata": {},
   "source": [
    "## Naive Bayes"
   ]
  },
  {
   "cell_type": "markdown",
   "id": "b5c8a1df",
   "metadata": {},
   "source": [
    "Diimport library yang dibutuhkan untuk Naive Bayes, kemudian membuat sebuah gaussian classifier, train, lalu memprediksi respon dari data yang diuji"
   ]
  },
  {
   "cell_type": "code",
   "execution_count": 44,
   "id": "d7e7976b",
   "metadata": {},
   "outputs": [],
   "source": [
    "from sklearn.naive_bayes import GaussianNB\n",
    "\n",
    "#Create a Gaussian Classifier\n",
    "gnb = GaussianNB()\n",
    "\n",
    "#Train the model using the training sets\n",
    "gnb.fit(X_train, Y_train)\n",
    "\n",
    "#Predict the response for test dataset\n",
    "Y_pred = gnb.predict(X_test)"
   ]
  },
  {
   "cell_type": "code",
   "execution_count": 45,
   "id": "afdc3f75",
   "metadata": {},
   "outputs": [
    {
     "name": "stdout",
     "output_type": "stream",
     "text": [
      "Accuracy: 0.912621359223301\n"
     ]
    }
   ],
   "source": [
    "#Import scikit-learn metrics module for accuracy calculation\n",
    "from sklearn import metrics\n",
    "\n",
    "# Model Accuracy, how often is the classifier correct?\n",
    "print(\"Accuracy:\",metrics.accuracy_score(y_test, y_pred))"
   ]
  },
  {
   "cell_type": "markdown",
   "id": "c98573e1",
   "metadata": {},
   "source": [
    "Diperoleh keakuratan sebesar 91.2%"
   ]
  },
  {
   "cell_type": "markdown",
   "id": "8c49877c",
   "metadata": {},
   "source": [
    "## Confusion Matrix for Random Forest Algorithm "
   ]
  },
  {
   "cell_type": "markdown",
   "id": "8161e959",
   "metadata": {},
   "source": [
    "Didefinisikan terelebih dahulu x dna y yang diperlukan untuk confusion matrix untuk random forest algorithm"
   ]
  },
  {
   "cell_type": "code",
   "execution_count": 50,
   "id": "70e81009",
   "metadata": {},
   "outputs": [],
   "source": [
    "x = df_bank[['duration', 'campaign', 'pdays', 'previous']]\n",
    "y = df_bank['deposit']"
   ]
  },
  {
   "cell_type": "code",
   "execution_count": 59,
   "id": "80b219ac",
   "metadata": {},
   "outputs": [],
   "source": [
    "X = pd.get_dummies(x)\n",
    "Y = df_bank['deposit']"
   ]
  },
  {
   "cell_type": "code",
   "execution_count": 64,
   "id": "47e823c9",
   "metadata": {},
   "outputs": [
    {
     "data": {
      "text/plain": [
       "RandomForestClassifier()"
      ]
     },
     "execution_count": 64,
     "metadata": {},
     "output_type": "execute_result"
    }
   ],
   "source": [
    "import numpy as np\n",
    "from sklearn.ensemble import RandomForestClassifier\n",
    "from sklearn.metrics import accuracy_score\n",
    "from sklearn.model_selection import train_test_split\n",
    "rf=RandomForestClassifier()\n",
    "x_train, x_test, y_train, y_test = train_test_split(x, y, test_size=0.3, random_state=1)\n",
    "X_Train, X_Cv, Y_Train, Y_Cv = train_test_split(X, Y, test_size=0.2)\n",
    "rf.fit(x_train,y_train)\n",
    "rf.fit(X_Train,Y_Train)"
   ]
  },
  {
   "cell_type": "code",
   "execution_count": 65,
   "id": "f537b9c6",
   "metadata": {},
   "outputs": [],
   "source": [
    "pred_cv1 = rf.predict(x_test)\n",
    "pred_cv2 = rf.predict(X_Cv)"
   ]
  },
  {
   "cell_type": "code",
   "execution_count": 68,
   "id": "ca938136",
   "metadata": {},
   "outputs": [
    {
     "name": "stdout",
     "output_type": "stream",
     "text": [
      "0.9587378640776699\n",
      "[[703  39]\n",
      " [ 49  33]]\n"
     ]
    }
   ],
   "source": [
    "print(accuracy_score(y_test, pred_cv1))\n",
    "matrix=confusion_matrix(Y_Cv, pred_cv2)\n",
    "print(matrix)"
   ]
  },
  {
   "cell_type": "markdown",
   "id": "7599135b",
   "metadata": {},
   "source": [
    "Diperoleh nilai akuratnya sebesar 95% dan matriks confusion seperti di atas"
   ]
  },
  {
   "cell_type": "markdown",
   "id": "a715d7c4",
   "metadata": {},
   "source": [
    "Menggunakan random forest karena algoritma Random Forest mampu mengklasifiksi data yang memiliki atribut yang tidak lengkap, dapat digunakan untuk klasifikasi dan regresi akan tetapi tidak terlalu bagus untuk regresi, lebih cocok untuk pengklasifikasian data serta dapat digunakan untuk menangani data sampel yang banyak."
   ]
  },
  {
   "cell_type": "markdown",
   "id": "21bf66f1",
   "metadata": {},
   "source": [
    "### Visualizing Data Grafik Bar"
   ]
  },
  {
   "cell_type": "markdown",
   "id": "a25d152b",
   "metadata": {},
   "source": [
    "Dengan menggunakan seaborn, akan dibuat grafik bar dari kolom y untuk deposit"
   ]
  },
  {
   "cell_type": "code",
   "execution_count": 74,
   "id": "5b1083e5",
   "metadata": {},
   "outputs": [
    {
     "data": {
      "image/png": "[encoded data removed]",
      "text/plain": [
       "<Figure size 432x288 with 1 Axes>"
      ]
     },
     "metadata": {
      "needs_background": "light"
     },
     "output_type": "display_data"
    }
   ],
   "source": [
    "sns.countplot(x = 'y', data=df)\n",
    "plt.show()"
   ]
  },
  {
   "cell_type": "markdown",
   "id": "dd719caf",
   "metadata": {},
   "source": [
    "Grafik di atas menunjukkan bahwa dari data yang diambil, jumlah orang yang tidak ingin mengambil deposit dibanding orang yang mengambil deposit sangat besar perbandingannya\n",
    "\n",
    "Akan dikelompokkan data menurut kolom y"
   ]
  },
  {
   "cell_type": "code",
   "execution_count": 75,
   "id": "109705bf",
   "metadata": {},
   "outputs": [
    {
     "data": {
      "text/html": [
       "<div>\n",
       "<style scoped>\n",
       "    .dataframe tbody tr th:only-of-type {\n",
       "        vertical-align: middle;\n",
       "    }\n",
       "\n",
       "    .dataframe tbody tr th {\n",
       "        vertical-align: top;\n",
       "    }\n",
       "\n",
       "    .dataframe thead th {\n",
       "        text-align: right;\n",
       "    }\n",
       "</style>\n",
       "<table border=\"1\" class=\"dataframe\">\n",
       "  <thead>\n",
       "    <tr style=\"text-align: right;\">\n",
       "      <th></th>\n",
       "      <th>age</th>\n",
       "      <th>duration</th>\n",
       "      <th>campaign</th>\n",
       "      <th>pdays</th>\n",
       "      <th>previous</th>\n",
       "      <th>emp.var.rate</th>\n",
       "      <th>cons.price.idx</th>\n",
       "      <th>cons.conf.idx</th>\n",
       "      <th>euribor3m</th>\n",
       "      <th>nr.employed</th>\n",
       "      <th>yes?</th>\n",
       "    </tr>\n",
       "    <tr>\n",
       "      <th>y</th>\n",
       "      <th></th>\n",
       "      <th></th>\n",
       "      <th></th>\n",
       "      <th></th>\n",
       "      <th></th>\n",
       "      <th></th>\n",
       "      <th></th>\n",
       "      <th></th>\n",
       "      <th></th>\n",
       "      <th></th>\n",
       "      <th></th>\n",
       "    </tr>\n",
       "  </thead>\n",
       "  <tbody>\n",
       "    <tr>\n",
       "      <th>no</th>\n",
       "      <td>39.895311</td>\n",
       "      <td>219.40976</td>\n",
       "      <td>2.605780</td>\n",
       "      <td>982.763086</td>\n",
       "      <td>0.141767</td>\n",
       "      <td>0.240185</td>\n",
       "      <td>93.599677</td>\n",
       "      <td>-40.586723</td>\n",
       "      <td>3.802826</td>\n",
       "      <td>5175.502072</td>\n",
       "      <td>0.0</td>\n",
       "    </tr>\n",
       "    <tr>\n",
       "      <th>yes</th>\n",
       "      <td>41.889135</td>\n",
       "      <td>560.78714</td>\n",
       "      <td>1.980044</td>\n",
       "      <td>778.722838</td>\n",
       "      <td>0.585366</td>\n",
       "      <td>-1.177384</td>\n",
       "      <td>93.417268</td>\n",
       "      <td>-39.786475</td>\n",
       "      <td>2.145448</td>\n",
       "      <td>5093.118625</td>\n",
       "      <td>1.0</td>\n",
       "    </tr>\n",
       "  </tbody>\n",
       "</table>\n",
       "</div>"
      ],
      "text/plain": [
       "           age   duration  campaign       pdays  previous  emp.var.rate  \\\n",
       "y                                                                         \n",
       "no   39.895311  219.40976  2.605780  982.763086  0.141767      0.240185   \n",
       "yes  41.889135  560.78714  1.980044  778.722838  0.585366     -1.177384   \n",
       "\n",
       "     cons.price.idx  cons.conf.idx  euribor3m  nr.employed  yes?  \n",
       "y                                                                 \n",
       "no        93.599677     -40.586723   3.802826  5175.502072   0.0  \n",
       "yes       93.417268     -39.786475   2.145448  5093.118625   1.0  "
      ]
     },
     "execution_count": 75,
     "metadata": {},
     "output_type": "execute_result"
    }
   ],
   "source": [
    "df_group = df.groupby('y').mean()\n",
    "df_group"
   ]
  },
  {
   "cell_type": "markdown",
   "id": "d37db2bb",
   "metadata": {},
   "source": [
    "Dari data di atas, terlihat bahwa rata-rata umur yang tidak ingin mengambil deposit adalah 39-40 tahun.\n",
    "Sedangkan rata-rata umur yang mengambil deposit adalah 41-42 tahun.\n",
    "\n",
    "Akan dibuat sebuah grafik histogram berdasarkan jenis pekerjaan dan rata-rata umur. Langkah pertama adalah mengelompokkan data tersebut dengan .groupby('job')"
   ]
  },
  {
   "cell_type": "code",
   "execution_count": 84,
   "id": "50989853",
   "metadata": {},
   "outputs": [
    {
     "data": {
      "text/html": [
       "<div>\n",
       "<style scoped>\n",
       "    .dataframe tbody tr th:only-of-type {\n",
       "        vertical-align: middle;\n",
       "    }\n",
       "\n",
       "    .dataframe tbody tr th {\n",
       "        vertical-align: top;\n",
       "    }\n",
       "\n",
       "    .dataframe thead th {\n",
       "        text-align: right;\n",
       "    }\n",
       "</style>\n",
       "<table border=\"1\" class=\"dataframe\">\n",
       "  <thead>\n",
       "    <tr style=\"text-align: right;\">\n",
       "      <th></th>\n",
       "      <th>age</th>\n",
       "    </tr>\n",
       "    <tr>\n",
       "      <th>job</th>\n",
       "      <th></th>\n",
       "    </tr>\n",
       "  </thead>\n",
       "  <tbody>\n",
       "    <tr>\n",
       "      <th>admin.</th>\n",
       "      <td>38.240119</td>\n",
       "    </tr>\n",
       "    <tr>\n",
       "      <th>blue-collar</th>\n",
       "      <td>39.265837</td>\n",
       "    </tr>\n",
       "    <tr>\n",
       "      <th>entrepreneur</th>\n",
       "      <td>42.202703</td>\n",
       "    </tr>\n",
       "    <tr>\n",
       "      <th>housemaid</th>\n",
       "      <td>45.672727</td>\n",
       "    </tr>\n",
       "    <tr>\n",
       "      <th>management</th>\n",
       "      <td>42.429012</td>\n",
       "    </tr>\n",
       "    <tr>\n",
       "      <th>retired</th>\n",
       "      <td>60.873494</td>\n",
       "    </tr>\n",
       "    <tr>\n",
       "      <th>self-employed</th>\n",
       "      <td>40.679245</td>\n",
       "    </tr>\n",
       "    <tr>\n",
       "      <th>services</th>\n",
       "      <td>38.513995</td>\n",
       "    </tr>\n",
       "    <tr>\n",
       "      <th>student</th>\n",
       "      <td>26.695122</td>\n",
       "    </tr>\n",
       "    <tr>\n",
       "      <th>technician</th>\n",
       "      <td>38.622287</td>\n",
       "    </tr>\n",
       "    <tr>\n",
       "      <th>unemployed</th>\n",
       "      <td>39.531532</td>\n",
       "    </tr>\n",
       "    <tr>\n",
       "      <th>unknown</th>\n",
       "      <td>46.846154</td>\n",
       "    </tr>\n",
       "  </tbody>\n",
       "</table>\n",
       "</div>"
      ],
      "text/plain": [
       "                     age\n",
       "job                     \n",
       "admin.         38.240119\n",
       "blue-collar    39.265837\n",
       "entrepreneur   42.202703\n",
       "housemaid      45.672727\n",
       "management     42.429012\n",
       "retired        60.873494\n",
       "self-employed  40.679245\n",
       "services       38.513995\n",
       "student        26.695122\n",
       "technician     38.622287\n",
       "unemployed     39.531532\n",
       "unknown        46.846154"
      ]
     },
     "execution_count": 84,
     "metadata": {},
     "output_type": "execute_result"
    }
   ],
   "source": [
    "df_group2 = df.groupby('job').mean()\n",
    "df_group3 = df_group2.drop(['duration', 'campaign', 'pdays', 'previous', 'emp.var.rate', 'cons.price.idx', 'cons.conf.idx', 'euribor3m', 'nr.employed', 'yes?'], axis = 1)\n",
    "df_group3"
   ]
  },
  {
   "cell_type": "code",
   "execution_count": 86,
   "id": "7f7307fd",
   "metadata": {},
   "outputs": [
    {
     "data": {
      "image/png": "[encoded data removed]",
      "text/plain": [
       "<Figure size 432x288 with 1 Axes>"
      ]
     },
     "metadata": {
      "needs_background": "light"
     },
     "output_type": "display_data"
    }
   ],
   "source": [
    "%matplotlib inline\n",
    "df_group3.plot(kind='hist', edgecolor='darkblue')\n",
    "plt.title('Purchase Frequency for Job Title')\n",
    "plt.xlabel('Age')\n",
    "plt.ylabel('Quantity of Age')\n",
    "plt.show()"
   ]
  },
  {
   "cell_type": "markdown",
   "id": "9c53ac0c",
   "metadata": {},
   "source": [
    "Dari data di atas, terlihat bahwa umur yang muncul untuk jenis pekerjaan yang tersedia pada data adalah:\n",
    "Umur 27 - 30 = 1 jenis pekerjaan\n",
    "Umur 37 - 41 = 5 jenis pekerjaan\n",
    "Umur 41 - 44 = 3 jenis pekerjaan\n",
    "Umur 44 - 47 = 2 jenis pekerjaan\n",
    "Umur 57 - 60 = 1 jenis pekerjaan"
   ]
  }
 ],
 "metadata": {
  "kernelspec": {
   "display_name": "Python 3 (ipykernel)",
   "language": "python",
   "name": "python3"
  },
  "language_info": {
   "codemirror_mode": {
    "name": "ipython",
    "version": 3
   },
   "file_extension": ".py",
   "mimetype": "text/x-python",
   "name": "python",
   "nbconvert_exporter": "python",
   "pygments_lexer": "ipython3",
   "version": "3.9.7"
  },
  "varInspector": {
   "cols": {
    "lenName": 16,
    "lenType": 16,
    "lenVar": 40
   },
   "kernels_config": {
    "python": {
     "delete_cmd_postfix": "",
     "delete_cmd_prefix": "del ",
     "library": "var_list.py",
     "varRefreshCmd": "print(var_dic_list())"
    },
    "r": {
     "delete_cmd_postfix": ") ",
     "delete_cmd_prefix": "rm(",
     "library": "var_list.r",
     "varRefreshCmd": "cat(var_dic_list()) "
    }
   },
   "types_to_exclude": [
    "module",
    "function",
    "builtin_function_or_method",
    "instance",
    "_Feature"
   ],
   "window_display": false
  }
 },
 "nbformat": 4,
 "nbformat_minor": 5
}
