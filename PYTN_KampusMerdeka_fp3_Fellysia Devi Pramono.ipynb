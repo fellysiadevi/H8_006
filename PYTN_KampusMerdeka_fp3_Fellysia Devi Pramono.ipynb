{
 "cells": [
  {
   "cell_type": "markdown",
   "metadata": {},
   "source": [
    "Nama Anggota Kelompok :\n",
    "- Luqman Hakim (PYTN - KS06 - 003)\n",
    "- Fellysia Devi Pramono (PYTN - KS06 - 006)\n",
    "<br>\n",
    "---\n",
    "<br>\n",
    "\n",
    "# Project Introduction\n",
    "\n",
    "**Project Overview**<br>\n",
    "Database ini memiliki 13 atribut untuk Prediksi keselamatan pasien dari penyakit jantung.<br><br>\n",
    "**Atribut Information**<br>\n",
    "1. age - umur pasien\n",
    "2. anaemia - apakah ada pengurangan haemoglobin\n",
    "3. creatinine_phosphokinase - level enzim CPK dalam mcg/L\n",
    "4. diabetes - apakah pasien punya riwayat diabetes\n",
    "5. ejection_fraction - persentase darah yang meninggalkan jantung dalam persentasi di setiap kontraksi jantung\n",
    "6. high_blood_pressure - apakah pasien punya darah tinggi\n",
    "7. platelets - jumlah platelet di darah dalam kiloplatelets/mL\n",
    "8. serum_creatinine - level serum creatinine di darah dalam mg/dL\n",
    "9. serum_sodium - level serum sodium di darah dalam mEq/L\n",
    "10. sex - apakah pasien pria atau wanita\n",
    "11. smoking - apakah pasien merokok\n",
    "12. time - waktu dalam hari untuk follow-up\n",
    "13. DEATH_EVENT - apakah pasien sudah meninggal saat waktu follow-up"
   ]
  },
  {
   "cell_type": "markdown",
   "metadata": {
    "id": "pb-uPA_1t-gC"
   },
   "source": [
    "# Import Library"
   ]
  },
  {
   "cell_type": "code",
   "execution_count": 1,
   "metadata": {
    "scrolled": false
   },
   "outputs": [
    {
     "name": "stdout",
     "output_type": "stream",
     "text": [
      "Requirement already satisfied: mlxtend in c:\\users\\lenovo\\appdata\\roaming\\python\\python39\\site-packages (0.20.0)\n",
      "Requirement already satisfied: joblib>=0.13.2 in c:\\users\\lenovo\\appdata\\local\\programs\\python\\python39\\lib\\site-packages (from mlxtend) (1.0.1)\n",
      "Requirement already satisfied: scikit-learn>=1.0.2 in c:\\users\\lenovo\\appdata\\local\\programs\\python\\python39\\lib\\site-packages (from mlxtend) (1.1.1)\n",
      "Requirement already satisfied: setuptools in c:\\users\\lenovo\\appdata\\local\\programs\\python\\python39\\lib\\site-packages (from mlxtend) (60.9.0)\n",
      "Requirement already satisfied: matplotlib>=3.0.0 in c:\\users\\lenovo\\appdata\\local\\programs\\python\\python39\\lib\\site-packages (from mlxtend) (3.4.3)\n",
      "Requirement already satisfied: scipy>=1.2.1 in c:\\users\\lenovo\\appdata\\local\\programs\\python\\python39\\lib\\site-packages (from mlxtend) (1.8.0)\n",
      "Requirement already satisfied: pandas>=0.24.2 in c:\\users\\lenovo\\appdata\\local\\programs\\python\\python39\\lib\\site-packages (from mlxtend) (1.3.4)\n",
      "Requirement already satisfied: numpy>=1.16.2 in c:\\users\\lenovo\\appdata\\local\\programs\\python\\python39\\lib\\site-packages (from mlxtend) (1.22.3)\n",
      "Requirement already satisfied: python-dateutil>=2.7 in c:\\users\\lenovo\\appdata\\local\\programs\\python\\python39\\lib\\site-packages (from matplotlib>=3.0.0->mlxtend) (2.8.2)\n",
      "Requirement already satisfied: cycler>=0.10 in c:\\users\\lenovo\\appdata\\local\\programs\\python\\python39\\lib\\site-packages (from matplotlib>=3.0.0->mlxtend) (0.11.0)\n",
      "Requirement already satisfied: pyparsing>=2.2.1 in c:\\users\\lenovo\\appdata\\local\\programs\\python\\python39\\lib\\site-packages (from matplotlib>=3.0.0->mlxtend) (3.0.7)\n",
      "Requirement already satisfied: kiwisolver>=1.0.1 in c:\\users\\lenovo\\appdata\\local\\programs\\python\\python39\\lib\\site-packages (from matplotlib>=3.0.0->mlxtend) (1.3.2)\n",
      "Requirement already satisfied: pillow>=6.2.0 in c:\\users\\lenovo\\appdata\\local\\programs\\python\\python39\\lib\\site-packages (from matplotlib>=3.0.0->mlxtend) (8.4.0)\n",
      "Requirement already satisfied: pytz>=2017.3 in c:\\users\\lenovo\\appdata\\local\\programs\\python\\python39\\lib\\site-packages (from pandas>=0.24.2->mlxtend) (2021.3)\n",
      "Requirement already satisfied: threadpoolctl>=2.0.0 in c:\\users\\lenovo\\appdata\\local\\programs\\python\\python39\\lib\\site-packages (from scikit-learn>=1.0.2->mlxtend) (3.0.0)\n",
      "Requirement already satisfied: six>=1.5 in c:\\users\\lenovo\\appdata\\local\\programs\\python\\python39\\lib\\site-packages (from python-dateutil>=2.7->matplotlib>=3.0.0->mlxtend) (1.16.0)\n"
     ]
    }
   ],
   "source": [
    "!pip install mlxtend"
   ]
  },
  {
   "cell_type": "code",
   "execution_count": 1,
   "metadata": {
    "id": "jXQhzLUbgCP0"
   },
   "outputs": [],
   "source": [
    "## import library yang dibutuhkan\n",
    "\n",
    "import joblib\n",
    "import matplotlib.pyplot as plt\n",
    "import numpy as np\n",
    "import pandas as pd\n",
    "import seaborn as sb\n",
    "import six\n",
    "import sys\n",
    "\n",
    "from collections import Counter\n",
    "from imblearn.over_sampling import RandomOverSampler\n",
    "from matplotlib import pyplot\n",
    "from mlxtend.classifier import StackingCVClassifier\n",
    "from sklearn import preprocessing\n",
    "from sklearn.ensemble import ExtraTreesClassifier\n",
    "from sklearn.ensemble import RandomForestClassifier\n",
    "from sklearn.ensemble import VotingClassifier\n",
    "from sklearn.linear_model import LogisticRegression\n",
    "from sklearn.metrics import classification_report, confusion_matrix, f1_score, accuracy_score, precision_score, recall_score\n",
    "from sklearn.model_selection import train_test_split, cross_val_score, RepeatedStratifiedKFold, KFold, GridSearchCV\n",
    "from sklearn.naive_bayes import GaussianNB\n",
    "from sklearn.neighbors import KNeighborsClassifier\n",
    "from sklearn.preprocessing import StandardScaler\n",
    "from sklearn.svm import SVC\n",
    "from sklearn.tree import DecisionTreeClassifier\n",
    "from warnings import filterwarnings\n",
    "from xgboost import XGBClassifier\n",
    "\n",
    "filterwarnings('ignore')\n",
    "pd.set_option('display.max_columns', None)\n",
    "sys.modules['sklearn.externals.six'] = six"
   ]
  },
  {
   "cell_type": "markdown",
   "metadata": {
    "id": "ki8Z6Jpvsk6I"
   },
   "source": [
    "# Load Data"
   ]
  },
  {
   "cell_type": "code",
   "execution_count": 2,
   "metadata": {
    "colab": {
     "base_uri": "https://localhost:8080/",
     "height": 0
    },
    "id": "naUPhIl5ELp4",
    "outputId": "1e03d0e6-e0df-478a-ad6c-17860ab06a3a"
   },
   "outputs": [
    {
     "data": {
      "text/html": [
       "<div>\n",
       "<style scoped>\n",
       "    .dataframe tbody tr th:only-of-type {\n",
       "        vertical-align: middle;\n",
       "    }\n",
       "\n",
       "    .dataframe tbody tr th {\n",
       "        vertical-align: top;\n",
       "    }\n",
       "\n",
       "    .dataframe thead th {\n",
       "        text-align: right;\n",
       "    }\n",
       "</style>\n",
       "<table border=\"1\" class=\"dataframe\">\n",
       "  <thead>\n",
       "    <tr style=\"text-align: right;\">\n",
       "      <th></th>\n",
       "      <th>age</th>\n",
       "      <th>anaemia</th>\n",
       "      <th>creatinine_phosphokinase</th>\n",
       "      <th>diabetes</th>\n",
       "      <th>ejection_fraction</th>\n",
       "      <th>high_blood_pressure</th>\n",
       "      <th>platelets</th>\n",
       "      <th>serum_creatinine</th>\n",
       "      <th>serum_sodium</th>\n",
       "      <th>sex</th>\n",
       "      <th>smoking</th>\n",
       "      <th>time</th>\n",
       "      <th>DEATH_EVENT</th>\n",
       "    </tr>\n",
       "  </thead>\n",
       "  <tbody>\n",
       "    <tr>\n",
       "      <th>0</th>\n",
       "      <td>75.0</td>\n",
       "      <td>0</td>\n",
       "      <td>582</td>\n",
       "      <td>0</td>\n",
       "      <td>20</td>\n",
       "      <td>1</td>\n",
       "      <td>265000.00</td>\n",
       "      <td>1.9</td>\n",
       "      <td>130</td>\n",
       "      <td>1</td>\n",
       "      <td>0</td>\n",
       "      <td>4</td>\n",
       "      <td>1</td>\n",
       "    </tr>\n",
       "    <tr>\n",
       "      <th>1</th>\n",
       "      <td>55.0</td>\n",
       "      <td>0</td>\n",
       "      <td>7861</td>\n",
       "      <td>0</td>\n",
       "      <td>38</td>\n",
       "      <td>0</td>\n",
       "      <td>263358.03</td>\n",
       "      <td>1.1</td>\n",
       "      <td>136</td>\n",
       "      <td>1</td>\n",
       "      <td>0</td>\n",
       "      <td>6</td>\n",
       "      <td>1</td>\n",
       "    </tr>\n",
       "    <tr>\n",
       "      <th>2</th>\n",
       "      <td>65.0</td>\n",
       "      <td>0</td>\n",
       "      <td>146</td>\n",
       "      <td>0</td>\n",
       "      <td>20</td>\n",
       "      <td>0</td>\n",
       "      <td>162000.00</td>\n",
       "      <td>1.3</td>\n",
       "      <td>129</td>\n",
       "      <td>1</td>\n",
       "      <td>1</td>\n",
       "      <td>7</td>\n",
       "      <td>1</td>\n",
       "    </tr>\n",
       "    <tr>\n",
       "      <th>3</th>\n",
       "      <td>50.0</td>\n",
       "      <td>1</td>\n",
       "      <td>111</td>\n",
       "      <td>0</td>\n",
       "      <td>20</td>\n",
       "      <td>0</td>\n",
       "      <td>210000.00</td>\n",
       "      <td>1.9</td>\n",
       "      <td>137</td>\n",
       "      <td>1</td>\n",
       "      <td>0</td>\n",
       "      <td>7</td>\n",
       "      <td>1</td>\n",
       "    </tr>\n",
       "    <tr>\n",
       "      <th>4</th>\n",
       "      <td>65.0</td>\n",
       "      <td>1</td>\n",
       "      <td>160</td>\n",
       "      <td>1</td>\n",
       "      <td>20</td>\n",
       "      <td>0</td>\n",
       "      <td>327000.00</td>\n",
       "      <td>2.7</td>\n",
       "      <td>116</td>\n",
       "      <td>0</td>\n",
       "      <td>0</td>\n",
       "      <td>8</td>\n",
       "      <td>1</td>\n",
       "    </tr>\n",
       "  </tbody>\n",
       "</table>\n",
       "</div>"
      ],
      "text/plain": [
       "    age  anaemia  creatinine_phosphokinase  diabetes  ejection_fraction  \\\n",
       "0  75.0        0                       582         0                 20   \n",
       "1  55.0        0                      7861         0                 38   \n",
       "2  65.0        0                       146         0                 20   \n",
       "3  50.0        1                       111         0                 20   \n",
       "4  65.0        1                       160         1                 20   \n",
       "\n",
       "   high_blood_pressure  platelets  serum_creatinine  serum_sodium  sex  \\\n",
       "0                    1  265000.00               1.9           130    1   \n",
       "1                    0  263358.03               1.1           136    1   \n",
       "2                    0  162000.00               1.3           129    1   \n",
       "3                    0  210000.00               1.9           137    1   \n",
       "4                    0  327000.00               2.7           116    0   \n",
       "\n",
       "   smoking  time  DEATH_EVENT  \n",
       "0        0     4            1  \n",
       "1        0     6            1  \n",
       "2        1     7            1  \n",
       "3        0     7            1  \n",
       "4        0     8            1  "
      ]
     },
     "execution_count": 2,
     "metadata": {},
     "output_type": "execute_result"
    }
   ],
   "source": [
    "data = pd.read_csv('dataset/heart_failure_clinical_records_dataset.csv') ## Load dataset\n",
    "data.head() ## Menampilkan 5 data teratas"
   ]
  },
  {
   "cell_type": "markdown",
   "metadata": {
    "id": "FXmFqQkc4Hym"
   },
   "source": [
    "# EDA (Exploratory Data Analysis)"
   ]
  },
  {
   "cell_type": "code",
   "execution_count": 3,
   "metadata": {
    "id": "NAclZ2WQ41gk"
   },
   "outputs": [],
   "source": [
    "data = data.rename(columns={'DEATH_EVENT' : 'death'})"
   ]
  },
  {
   "cell_type": "markdown",
   "metadata": {},
   "source": [
    "disini kita mengubah nama atribut 'DEATH_EVENT' menjadi 'death' agar lebih mudah dipahami"
   ]
  },
  {
   "cell_type": "code",
   "execution_count": 4,
   "metadata": {
    "colab": {
     "base_uri": "https://localhost:8080/",
     "height": 143
    },
    "id": "UICbFOdS4NXQ",
    "outputId": "c208c81e-9d26-4130-cfe9-d6b9c5dacbe3",
    "scrolled": false
   },
   "outputs": [
    {
     "data": {
      "text/html": [
       "<div>\n",
       "<style scoped>\n",
       "    .dataframe tbody tr th:only-of-type {\n",
       "        vertical-align: middle;\n",
       "    }\n",
       "\n",
       "    .dataframe tbody tr th {\n",
       "        vertical-align: top;\n",
       "    }\n",
       "\n",
       "    .dataframe thead th {\n",
       "        text-align: right;\n",
       "    }\n",
       "</style>\n",
       "<table border=\"1\" class=\"dataframe\">\n",
       "  <thead>\n",
       "    <tr style=\"text-align: right;\">\n",
       "      <th></th>\n",
       "      <th>age</th>\n",
       "      <th>anaemia</th>\n",
       "      <th>creatinine_phosphokinase</th>\n",
       "      <th>diabetes</th>\n",
       "      <th>ejection_fraction</th>\n",
       "      <th>high_blood_pressure</th>\n",
       "      <th>platelets</th>\n",
       "      <th>serum_creatinine</th>\n",
       "      <th>serum_sodium</th>\n",
       "      <th>sex</th>\n",
       "      <th>smoking</th>\n",
       "      <th>time</th>\n",
       "      <th>death</th>\n",
       "    </tr>\n",
       "  </thead>\n",
       "  <tbody>\n",
       "    <tr>\n",
       "      <th>0</th>\n",
       "      <td>75.0</td>\n",
       "      <td>0</td>\n",
       "      <td>582</td>\n",
       "      <td>0</td>\n",
       "      <td>20</td>\n",
       "      <td>1</td>\n",
       "      <td>265000.00</td>\n",
       "      <td>1.9</td>\n",
       "      <td>130</td>\n",
       "      <td>1</td>\n",
       "      <td>0</td>\n",
       "      <td>4</td>\n",
       "      <td>1</td>\n",
       "    </tr>\n",
       "    <tr>\n",
       "      <th>1</th>\n",
       "      <td>55.0</td>\n",
       "      <td>0</td>\n",
       "      <td>7861</td>\n",
       "      <td>0</td>\n",
       "      <td>38</td>\n",
       "      <td>0</td>\n",
       "      <td>263358.03</td>\n",
       "      <td>1.1</td>\n",
       "      <td>136</td>\n",
       "      <td>1</td>\n",
       "      <td>0</td>\n",
       "      <td>6</td>\n",
       "      <td>1</td>\n",
       "    </tr>\n",
       "    <tr>\n",
       "      <th>2</th>\n",
       "      <td>65.0</td>\n",
       "      <td>0</td>\n",
       "      <td>146</td>\n",
       "      <td>0</td>\n",
       "      <td>20</td>\n",
       "      <td>0</td>\n",
       "      <td>162000.00</td>\n",
       "      <td>1.3</td>\n",
       "      <td>129</td>\n",
       "      <td>1</td>\n",
       "      <td>1</td>\n",
       "      <td>7</td>\n",
       "      <td>1</td>\n",
       "    </tr>\n",
       "  </tbody>\n",
       "</table>\n",
       "</div>"
      ],
      "text/plain": [
       "    age  anaemia  creatinine_phosphokinase  diabetes  ejection_fraction  \\\n",
       "0  75.0        0                       582         0                 20   \n",
       "1  55.0        0                      7861         0                 38   \n",
       "2  65.0        0                       146         0                 20   \n",
       "\n",
       "   high_blood_pressure  platelets  serum_creatinine  serum_sodium  sex  \\\n",
       "0                    1  265000.00               1.9           130    1   \n",
       "1                    0  263358.03               1.1           136    1   \n",
       "2                    0  162000.00               1.3           129    1   \n",
       "\n",
       "   smoking  time  death  \n",
       "0        0     4      1  \n",
       "1        0     6      1  \n",
       "2        1     7      1  "
      ]
     },
     "execution_count": 4,
     "metadata": {},
     "output_type": "execute_result"
    }
   ],
   "source": [
    "data.head(3)"
   ]
  },
  {
   "cell_type": "code",
   "execution_count": 5,
   "metadata": {
    "scrolled": true
   },
   "outputs": [
    {
     "data": {
      "text/plain": [
       "<AxesSubplot:xlabel='death', ylabel='count'>"
      ]
     },
     "execution_count": 5,
     "metadata": {},
     "output_type": "execute_result"
    },
    {
     "data": {
      "image/png": "[encoded data removed]",
      "text/plain": [
       "<Figure size 432x288 with 1 Axes>"
      ]
     },
     "metadata": {
      "needs_background": "light"
     },
     "output_type": "display_data"
    }
   ],
   "source": [
    "sb.countplot(data=data, x='death')"
   ]
  },
  {
   "cell_type": "markdown",
   "metadata": {},
   "source": [
    "Dari plot diatas dapat disimpulkan bahwa feature target yang ada bersifat imbalanced atau tidak seimbang, sehingga perlu dilakukan resampling untuk membuat datanya seimbang."
   ]
  },
  {
   "cell_type": "code",
   "execution_count": 6,
   "metadata": {
    "colab": {
     "base_uri": "https://localhost:8080/"
    },
    "id": "375j1jNB5l_4",
    "outputId": "eb9cc80f-38be-4e65-acf1-094d7eec5b99"
   },
   "outputs": [
    {
     "data": {
      "text/plain": [
       "(299, 13)"
      ]
     },
     "execution_count": 6,
     "metadata": {},
     "output_type": "execute_result"
    }
   ],
   "source": [
    "data.shape"
   ]
  },
  {
   "cell_type": "code",
   "execution_count": 7,
   "metadata": {},
   "outputs": [
    {
     "name": "stdout",
     "output_type": "stream",
     "text": [
      "<class 'pandas.core.frame.DataFrame'>\n",
      "RangeIndex: 299 entries, 0 to 298\n",
      "Data columns (total 13 columns):\n",
      " #   Column                    Non-Null Count  Dtype  \n",
      "---  ------                    --------------  -----  \n",
      " 0   age                       299 non-null    float64\n",
      " 1   anaemia                   299 non-null    int64  \n",
      " 2   creatinine_phosphokinase  299 non-null    int64  \n",
      " 3   diabetes                  299 non-null    int64  \n",
      " 4   ejection_fraction         299 non-null    int64  \n",
      " 5   high_blood_pressure       299 non-null    int64  \n",
      " 6   platelets                 299 non-null    float64\n",
      " 7   serum_creatinine          299 non-null    float64\n",
      " 8   serum_sodium              299 non-null    int64  \n",
      " 9   sex                       299 non-null    int64  \n",
      " 10  smoking                   299 non-null    int64  \n",
      " 11  time                      299 non-null    int64  \n",
      " 12  death                     299 non-null    int64  \n",
      "dtypes: float64(3), int64(10)\n",
      "memory usage: 30.5 KB\n"
     ]
    }
   ],
   "source": [
    "data.info()"
   ]
  },
  {
   "cell_type": "code",
   "execution_count": 8,
   "metadata": {
    "scrolled": true
   },
   "outputs": [
    {
     "name": "stdout",
     "output_type": "stream",
     "text": [
      "Total number of Died who was above 50: 85\n",
      "Total number of Not Died who was above 50: 167\n"
     ]
    },
    {
     "data": {
      "image/png": "[encoded data removed]",
      "text/plain": [
       "<Figure size 432x288 with 1 Axes>"
      ]
     },
     "metadata": {},
     "output_type": "display_data"
    }
   ],
   "source": [
    "age_above_50_not_died = data['death'][data.age >=50][data.death == 0]\n",
    "age_above_50_died = data['death'][data.age >= 50][data.death == 1]\n",
    "\n",
    "len_died = len(age_above_50_died)\n",
    "len_not_died = len(age_above_50_not_died)\n",
    "\n",
    "arr = np.array([len_died, len_not_died])\n",
    "labels =['DIED','NOT DIED']\n",
    "\n",
    "print(f'Total number of Died who was above 50: {len_died}')\n",
    "print(f'Total number of Not Died who was above 50: {len_not_died}')\n",
    "\n",
    "plt.pie(arr, labels=labels, explode = [0.2, 0.0], shadow= True)\n",
    "plt.show()"
   ]
  },
  {
   "cell_type": "markdown",
   "metadata": {},
   "source": [
    "Dari diagram diatas dapat disimpulkan bahwa :\n",
    "- total pasien diatas umur 50 meninggal adalah 85 orang\n",
    "- total pasien diatas umur 50 yang selamat adalah 167 orang"
   ]
  },
  {
   "cell_type": "code",
   "execution_count": 9,
   "metadata": {},
   "outputs": [],
   "source": [
    "categorical = ['anaemia', 'diabetes', 'high_blood_pressure', \n",
    "               'sex', 'smoking']"
   ]
  },
  {
   "cell_type": "code",
   "execution_count": 10,
   "metadata": {
    "scrolled": false
   },
   "outputs": [
    {
     "data": {
      "image/png": "[encoded data removed]",
      "text/plain": [
       "<Figure size 864x1080 with 5 Axes>"
      ]
     },
     "metadata": {
      "needs_background": "light"
     },
     "output_type": "display_data"
    }
   ],
   "source": [
    "colors = sb.color_palette(\"tab10\")\n",
    "with plt.style.context('bmh'):\n",
    "    plt.figure(figsize=(12, 15))\n",
    "    plt.subplots_adjust(wspace=0.4, hspace=0.4)\n",
    "    for i, (col, name) in enumerate(zip(colors, categorical)):\n",
    "        plt.subplot(3, 2, i+1)\n",
    "        sb.countplot(data=data, x=name, hue='death')"
   ]
  },
  {
   "cell_type": "markdown",
   "metadata": {},
   "source": [
    "Dari plot diatas, dapat disimpulkan bahwa :\n",
    "- Pasien penyakit jantung yang tidak mengidap anemia lebih banyak yang meninggal yaitu sekitar 50 orang dibandingan dengan pasien yang mengidap anemia yaitu sekitar 46 orang.\n",
    "- Pasien penyakit jantung yang tidak mengidap diabetes lebih banyak yang meninggal yaitu sekitar 55 orang dibandingan dengan pasien yang mengidap diabetes yaitu sekitar 40 orang.\n",
    "- Pasien penyakit jantung yang tidak mengidap darah tinggi lebih banyak yang meninggal yaitu sekitar 55 orang dibandingan dengan pasien yang mengidap anemia yaitu sekitar 40 orang.\n",
    "- Pasien penyakit jantung yang pria lebih banyak yang meninggal yaitu sekitar 64 orang dibandingan dengan pasien wanita yaitu sekitar 35 orang.\n",
    "- Pasien penyakit jantung yang tidak merokok lebih banyak yang meninggal yaitu sekitar 65 orang dibandingan dengan pasien yang merokok anemia yaitu sekitar 30 orang."
   ]
  },
  {
   "cell_type": "markdown",
   "metadata": {
    "id": "S9vUg6jusrKh"
   },
   "source": [
    "# Data Cleansing"
   ]
  },
  {
   "cell_type": "code",
   "execution_count": 11,
   "metadata": {
    "scrolled": false
   },
   "outputs": [
    {
     "data": {
      "text/plain": [
       "age                         0\n",
       "anaemia                     0\n",
       "creatinine_phosphokinase    0\n",
       "diabetes                    0\n",
       "ejection_fraction           0\n",
       "high_blood_pressure         0\n",
       "platelets                   0\n",
       "serum_creatinine            0\n",
       "serum_sodium                0\n",
       "sex                         0\n",
       "smoking                     0\n",
       "time                        0\n",
       "death                       0\n",
       "dtype: int64"
      ]
     },
     "execution_count": 11,
     "metadata": {},
     "output_type": "execute_result"
    }
   ],
   "source": [
    "data.isna().sum()"
   ]
  },
  {
   "cell_type": "markdown",
   "metadata": {},
   "source": [
    "Dapat dilihat bahwa data ini tidak memiliki missing value satupun."
   ]
  },
  {
   "cell_type": "code",
   "execution_count": 12,
   "metadata": {
    "colab": {
     "base_uri": "https://localhost:8080/",
     "height": 1000
    },
    "id": "ckGvka7S0Yxv",
    "outputId": "1358098a-5fb6-42ca-a023-75acece19f6a",
    "scrolled": false
   },
   "outputs": [
    {
     "data": {
      "text/plain": [
       "<AxesSubplot:>"
      ]
     },
     "execution_count": 12,
     "metadata": {},
     "output_type": "execute_result"
    },
    {
     "data": {
      "image/png": "[encoded data removed]",
      "text/plain": [
       "<Figure size 1440x1440 with 13 Axes>"
      ]
     },
     "metadata": {
      "needs_background": "light"
     },
     "output_type": "display_data"
    }
   ],
   "source": [
    "fig = plt.figure(figsize=(20,20))\n",
    "\n",
    "ax0 = fig.add_subplot(5,3,1)\n",
    "ax1 = fig.add_subplot(5,3,2)\n",
    "ax2 = fig.add_subplot(5,3,3)\n",
    "ax3 = fig.add_subplot(5,3,4)\n",
    "ax4 = fig.add_subplot(5,3,5)\n",
    "ax5 = fig.add_subplot(5,3,6)\n",
    "ax6 = fig.add_subplot(5,3,7)\n",
    "ax7 = fig.add_subplot(5,3,8)\n",
    "ax8 = fig.add_subplot(5,3,9)\n",
    "ax9 = fig.add_subplot(5,3,10)\n",
    "ax10 = fig.add_subplot(5,3,11)\n",
    "ax11 = fig.add_subplot(5,3,12)\n",
    "ax12 = fig.add_subplot(5,3,13)\n",
    "\n",
    "data.age.plot(kind=\"box\", ax=ax0)\n",
    "data.anaemia.plot(kind=\"box\", ax=ax1)\n",
    "data.creatinine_phosphokinase.plot(kind=\"box\", ax=ax2)\n",
    "data.diabetes.plot(kind=\"box\", ax=ax3)\n",
    "data.ejection_fraction.plot(kind=\"box\", ax=ax4)\n",
    "data.high_blood_pressure.plot(kind=\"box\", ax=ax5)\n",
    "data.platelets.plot(kind=\"box\", ax=ax6)\n",
    "data.serum_creatinine.plot(kind=\"box\", ax=ax7)\n",
    "data.serum_sodium.plot(kind=\"box\", ax=ax8)\n",
    "data.sex.plot(kind=\"box\", ax=ax9)\n",
    "data.smoking.plot(kind=\"box\", ax=ax10)\n",
    "data.time.plot(kind=\"box\", ax=ax11)\n",
    "data.death.plot(kind=\"box\", ax=ax12)"
   ]
  },
  {
   "cell_type": "markdown",
   "metadata": {},
   "source": [
    "Dapat dilihat pada Boxplot diatas bahwa beberapa atribut seperti 'creatinine_phosphokinase', 'ejection_fraction', 'platelets', 'serum_creatinine', dan 'serum_sodium' masih memiliki outlier, namun dikarenakan data terlalu sedikit, maka tidak perlu dilakukan impute outlier karena terlalu banyaknya modifikasi pada yang sedikit akan mempengaruhi performa data menjadi overfitting."
   ]
  },
  {
   "cell_type": "markdown",
   "metadata": {
    "id": "LKSnZdHQs4o1"
   },
   "source": [
    "# Feature Importance\n",
    "\n",
    "Feature Importance disini digunakan untuk menemukan feature terbaik untuk model\n"
   ]
  },
  {
   "cell_type": "code",
   "execution_count": 13,
   "metadata": {},
   "outputs": [],
   "source": [
    "data_feature = data.copy()"
   ]
  },
  {
   "cell_type": "code",
   "execution_count": 14,
   "metadata": {
    "colab": {
     "base_uri": "https://localhost:8080/"
    },
    "id": "Jx-K8jqEG1rp",
    "outputId": "e8678bda-92b8-47a8-bc34-553f9e31853a",
    "scrolled": false
   },
   "outputs": [
    {
     "name": "stdout",
     "output_type": "stream",
     "text": [
      "time                        0.503744\n",
      "serum_creatinine            0.101065\n",
      "creatinine_phosphokinase    0.088375\n",
      "platelets                   0.086397\n",
      "ejection_fraction           0.069994\n",
      "age                         0.046655\n",
      "serum_sodium                0.038180\n",
      "anaemia                     0.033425\n",
      "high_blood_pressure         0.019380\n",
      "diabetes                    0.012786\n",
      "sex                         0.000000\n",
      "smoking                     0.000000\n",
      "dtype: float64\n"
     ]
    },
    {
     "data": {
      "image/png": "[encoded data removed]",
      "text/plain": [
       "<Figure size 1152x720 with 1 Axes>"
      ]
     },
     "metadata": {
      "needs_background": "light"
     },
     "output_type": "display_data"
    }
   ],
   "source": [
    "model = DecisionTreeClassifier()\n",
    "\n",
    "x = data_feature.drop(columns='death', axis=1)\n",
    "y = data.death\n",
    "kolom = x.columns\n",
    "\n",
    "model_importance = model.fit(x, y)\n",
    "\n",
    "importance = pd.Series(model_importance.feature_importances_, index=kolom).sort_values(ascending=False)\n",
    "print(importance)\n",
    "\n",
    "plt.figure(figsize = (16,10))\n",
    "sb.barplot(x=importance, y=importance.index, palette='YlGnBu')\n",
    "plt.show()"
   ]
  },
  {
   "cell_type": "markdown",
   "metadata": {},
   "source": [
    "Dari proses feature importance yang menggunakan Decision Tree diatas, didapati bahwa ada 5 feature terbaik yang dapat digunakan, yaitu 'time', 'serum_creatinine', 'creatinine_phosphokinase', 'platelets', dan 'ejection_fraction'."
   ]
  },
  {
   "cell_type": "code",
   "execution_count": 15,
   "metadata": {
    "colab": {
     "base_uri": "https://localhost:8080/",
     "height": 0
    },
    "id": "0y8UBDfkNrQi",
    "outputId": "81bdd15b-c2c1-4fe4-cc27-32f17baa115e",
    "scrolled": false
   },
   "outputs": [
    {
     "data": {
      "text/html": [
       "<div>\n",
       "<style scoped>\n",
       "    .dataframe tbody tr th:only-of-type {\n",
       "        vertical-align: middle;\n",
       "    }\n",
       "\n",
       "    .dataframe tbody tr th {\n",
       "        vertical-align: top;\n",
       "    }\n",
       "\n",
       "    .dataframe thead th {\n",
       "        text-align: right;\n",
       "    }\n",
       "</style>\n",
       "<table border=\"1\" class=\"dataframe\">\n",
       "  <thead>\n",
       "    <tr style=\"text-align: right;\">\n",
       "      <th></th>\n",
       "      <th>time</th>\n",
       "      <th>serum_creatinine</th>\n",
       "      <th>creatinine_phosphokinase</th>\n",
       "      <th>platelets</th>\n",
       "      <th>ejection_fraction</th>\n",
       "      <th>death</th>\n",
       "    </tr>\n",
       "  </thead>\n",
       "  <tbody>\n",
       "    <tr>\n",
       "      <th>0</th>\n",
       "      <td>4</td>\n",
       "      <td>1.9</td>\n",
       "      <td>582</td>\n",
       "      <td>265000.00</td>\n",
       "      <td>20</td>\n",
       "      <td>1</td>\n",
       "    </tr>\n",
       "    <tr>\n",
       "      <th>1</th>\n",
       "      <td>6</td>\n",
       "      <td>1.1</td>\n",
       "      <td>7861</td>\n",
       "      <td>263358.03</td>\n",
       "      <td>38</td>\n",
       "      <td>1</td>\n",
       "    </tr>\n",
       "    <tr>\n",
       "      <th>2</th>\n",
       "      <td>7</td>\n",
       "      <td>1.3</td>\n",
       "      <td>146</td>\n",
       "      <td>162000.00</td>\n",
       "      <td>20</td>\n",
       "      <td>1</td>\n",
       "    </tr>\n",
       "  </tbody>\n",
       "</table>\n",
       "</div>"
      ],
      "text/plain": [
       "   time  serum_creatinine  creatinine_phosphokinase  platelets  \\\n",
       "0     4               1.9                       582  265000.00   \n",
       "1     6               1.1                      7861  263358.03   \n",
       "2     7               1.3                       146  162000.00   \n",
       "\n",
       "   ejection_fraction  death  \n",
       "0                 20      1  \n",
       "1                 38      1  \n",
       "2                 20      1  "
      ]
     },
     "execution_count": 15,
     "metadata": {},
     "output_type": "execute_result"
    }
   ],
   "source": [
    "df = data.copy()\n",
    "\n",
    "df = df[['time', 'serum_creatinine', 'creatinine_phosphokinase', 'platelets', 'ejection_fraction', 'death']]\n",
    "\n",
    "df.head(3)"
   ]
  },
  {
   "cell_type": "code",
   "execution_count": 16,
   "metadata": {
    "colab": {
     "base_uri": "https://localhost:8080/",
     "height": 0
    },
    "id": "19uMVWfBO0Ye",
    "outputId": "0f7bb193-bc00-4da7-cdf3-2c07bfeaf4f0"
   },
   "outputs": [
    {
     "data": {
      "text/plain": [
       "<AxesSubplot:>"
      ]
     },
     "execution_count": 16,
     "metadata": {},
     "output_type": "execute_result"
    },
    {
     "data": {
      "image/png": "[encoded data removed]",
      "text/plain": [
       "<Figure size 432x288 with 2 Axes>"
      ]
     },
     "metadata": {
      "needs_background": "light"
     },
     "output_type": "display_data"
    }
   ],
   "source": [
    "sb.heatmap(df.corr(), cmap='YlGnBu', annot=True)"
   ]
  },
  {
   "cell_type": "markdown",
   "metadata": {},
   "source": [
    "Dari heatmap diatas disimpulkan bahwa tidak ada multikolinearitas pada feature atau atribut yang akan digunakan untuk model."
   ]
  },
  {
   "cell_type": "markdown",
   "metadata": {
    "id": "KXyOHgACtecT"
   },
   "source": [
    "# Resampling"
   ]
  },
  {
   "cell_type": "code",
   "execution_count": 17,
   "metadata": {
    "id": "DPHhKavkniE-"
   },
   "outputs": [],
   "source": [
    "x = df.drop('death', axis=1)\n",
    "y = df['death']"
   ]
  },
  {
   "cell_type": "code",
   "execution_count": 18,
   "metadata": {
    "colab": {
     "base_uri": "https://localhost:8080/"
    },
    "id": "7qXCAVrhXU2o",
    "outputId": "8b7ef71d-e356-48b8-ccad-4bf33f5b6ee2"
   },
   "outputs": [
    {
     "name": "stdout",
     "output_type": "stream",
     "text": [
      "Counter({1: 203, 0: 203})\n"
     ]
    }
   ],
   "source": [
    "x_over = x\n",
    "y_over = y\n",
    "\n",
    "ros = RandomOverSampler()\n",
    "x_ros, y_ros = ros.fit_resample(x_over, y_over)\n",
    "\n",
    "print(Counter(y_ros))"
   ]
  },
  {
   "cell_type": "markdown",
   "metadata": {},
   "source": [
    "Dilakukan Resampling karena feature target tidak seimbang, sehingga perlu dilakukan resampling."
   ]
  },
  {
   "cell_type": "markdown",
   "metadata": {
    "id": "Gl1gTF1muGeH"
   },
   "source": [
    "# Ensemble Learning"
   ]
  },
  {
   "cell_type": "markdown",
   "metadata": {},
   "source": [
    "## Split data"
   ]
  },
  {
   "cell_type": "code",
   "execution_count": 19,
   "metadata": {
    "id": "JXx758DNJSVF"
   },
   "outputs": [],
   "source": [
    "x_train, x_test, y_train, y_test = train_test_split(x_ros, y_ros, test_size=0.30, random_state = 0)\n",
    "\n",
    "scaler = StandardScaler()\n",
    "\n",
    "x_train = scaler.fit_transform(x_train)\n",
    "x_test = scaler.transform(x_test)"
   ]
  },
  {
   "cell_type": "markdown",
   "metadata": {},
   "source": [
    "## Voting Classifier\n",
    "Voting Classifier adalah model machine learning yang melatih ensemble atau gabungan dari banyak model dan memprediksi output (kelas) berdasarkan probabilitas tertinggi dari kelas yang dipilih sebagai output.\n",
    "Simplenya model ini mengumpulkan temuan dari setiap pengklasifikasi yang diteruskan ke Voting Classifier dan memprediksi kelas keluaran berdasarkan mayoritas suara terbanyak. Idenya adalah daripada membuat model khusus yang terpisah dan menemukan akurasi untuk masing-masing model, kita membuat model tunggal yang dilatih oleh model ini dan memprediksi keluaran berdasarkan mayoritas suara gabungan untuk setiap kelas keluaran.\n",
    "Voting Classifier dibagi menjadi 2:\n",
    "1. Hard Voting : pada voting jenis ini, memprediksi kelas output dengan major vote tertinggi atau kelas yang mana memiliki probabilitas tertinggi untuk terprediksi pada suatu kelas. Contohnya ketika classifier memprediksi bahwa kelas output nantinya adalah (A, B, A), maka mayoritas yang diprediksi akan mengerluarkan A sebagai output\n",
    "2. Soft Voting : pada voting jenis ini, memprediksi kelas output dengan based on average probability yang diberikan untuk kelas tersebut. Contohnya ketika kita memberi input pada 3 model, yaitu predictioni probability untuk kelas A=(0.30, 0.47, 0.53) dan kelas B=(0.20, 0.32, 0.40), maka average untuk kelas A adalah 0.4333 dan kelas B adalah 0.3067, maka pemenang yang akan tampil sebagai output adalah kelas A karena memiliki probability average tiap classifier tertinggi. \n",
    "\n",
    "\n",
    "\n",
    "<img title=\"Voting Classifier\" alt=\"Alt text\" src=\"https://files.codingninjas.in/article_images/the-voting-classifier-0-1639979194.jpg\">\n",
    "\n",
    "\n",
    "sumber :\n",
    "- https://www.geeksforgeeks.org/ml-voting-classifier-using-sklearn/\n",
    "- https://www.codingninjas.com/codestudio/library/the-voting-classifier"
   ]
  },
  {
   "cell_type": "markdown",
   "metadata": {},
   "source": [
    "### Cek akurasi base model"
   ]
  },
  {
   "cell_type": "code",
   "execution_count": 20,
   "metadata": {},
   "outputs": [],
   "source": [
    "## define dictionary base model\n",
    "def get_models():\n",
    "    models = dict()\n",
    "    models['svm'] = SVC()\n",
    "    models['logreg'] = LogisticRegression()\n",
    "    models['knn'] = KNeighborsClassifier()\n",
    "    models['nb'] = GaussianNB()\n",
    "    models['dt'] = DecisionTreeClassifier()\n",
    "    return models\n",
    "\n",
    "## function untuk evaluate model\n",
    "def evaluate_model(model, x, y):\n",
    "    cv = RepeatedStratifiedKFold(n_splits=10, n_repeats=3, random_state=10)\n",
    "    scores = cross_val_score(model, x, y, scoring='accuracy', cv=cv, n_jobs=-1, error_score='raise')\n",
    "    return scores"
   ]
  },
  {
   "cell_type": "code",
   "execution_count": 21,
   "metadata": {},
   "outputs": [
    {
     "name": "stdout",
     "output_type": "stream",
     "text": [
      "\n",
      "svm model : \n",
      "average score = 0.53, average error = 0.06\n",
      "\n",
      "logreg model : \n",
      "average score = 0.76, average error = 0.06\n",
      "\n",
      "knn model : \n",
      "average score = 0.6, average error = 0.06\n",
      "\n",
      "nb model : \n",
      "average score = 0.78, average error = 0.05\n",
      "\n",
      "dt model : \n",
      "average score = 0.86, average error = 0.05\n"
     ]
    },
    {
     "data": {
      "image/png": "[encoded data removed]",
      "text/plain": [
       "<Figure size 432x288 with 1 Axes>"
      ]
     },
     "metadata": {
      "needs_background": "light"
     },
     "output_type": "display_data"
    }
   ],
   "source": [
    "## jalankan function get_models()\n",
    "## untuk mendapatkan dictionary base model\n",
    "models = get_models()\n",
    "\n",
    "## mengevaluasi base model dan melakukan storing results\n",
    "results, names = list(), list()\n",
    "for name, model in models.items():\n",
    "    scores = evaluate_model(model, x_ros, y_ros)\n",
    "    results.append(scores)\n",
    "    names.append(name)\n",
    "    print(f'\\n{name} model : \\naverage score = {np.round(np.mean(scores), 2)}, average error = {np.round(np.std(scores), 2)}')\n",
    "\n",
    "## membuat plot untuk membandingkan tiap model\n",
    "plt.figure(figsize=(6, 4))\n",
    "plt.boxplot(results, labels=names, showmeans=True)\n",
    "plt.show()"
   ]
  },
  {
   "cell_type": "markdown",
   "metadata": {},
   "source": [
    "### Mengunakan GridSearchCV\n",
    "GridSearchCV disini digunakan untuk melakukan hyperparameter tuning agar nantinya bisa mendapatkan parameter terbaik untuk base model dengan cara mencari parameter terbaik dari dictionary parameter yang sudah kita buat untuk model."
   ]
  },
  {
   "cell_type": "code",
   "execution_count": 22,
   "metadata": {
    "code_folding": [],
    "scrolled": true
   },
   "outputs": [
    {
     "name": "stdout",
     "output_type": "stream",
     "text": [
      "The best parameter for Decision Tree is = \n",
      " {'max_depth': 5, 'max_features': 20}\n"
     ]
    }
   ],
   "source": [
    "param_dtree = {'max_depth' : [5, 10, 20, 30, 50, 100, 500, 1000],\n",
    "               'max_features' : [5, 10, 20, 30, 50, 100, 500, 1000]\n",
    "              }\n",
    "\n",
    "dt = DecisionTreeClassifier()\n",
    "\n",
    "grid_dt = GridSearchCV(dt, param_dtree)\n",
    "grid_model_dt = grid_dt.fit(x_ros, y_ros)\n",
    "print(f'The best parameter for Decision Tree is = \\n {grid_model_dt.best_params_}')"
   ]
  },
  {
   "cell_type": "code",
   "execution_count": 23,
   "metadata": {},
   "outputs": [
    {
     "name": "stdout",
     "output_type": "stream",
     "text": [
      "The best parameter for Naive Bayes is = \n",
      " {'var_smoothing': 1.2328467394420635e-09}\n"
     ]
    }
   ],
   "source": [
    "param_nb = {'var_smoothing': np.logspace(0,-9, num=100)\n",
    "           }\n",
    "nb = GaussianNB()\n",
    "\n",
    "grid_nb = GridSearchCV(nb, param_nb)\n",
    "grid_model_nb = grid_nb.fit(x_ros, y_ros)\n",
    "print(f'The best parameter for Naive Bayes is = \\n {grid_model_nb.best_params_}')"
   ]
  },
  {
   "cell_type": "code",
   "execution_count": 24,
   "metadata": {},
   "outputs": [
    {
     "name": "stdout",
     "output_type": "stream",
     "text": [
      "The best parameter for Logistic Regression is = \n",
      " {'C': 0.001, 'penalty': 'l2'}\n"
     ]
    }
   ],
   "source": [
    "param_logreg = {'penalty' : ['l1', 'l2'],\n",
    "                'C': [0.001,0.01,0.1,1,10,100,1000]\n",
    "               }\n",
    "logreg = LogisticRegression()\n",
    "\n",
    "grid_logreg = GridSearchCV(logreg, param_logreg)\n",
    "grid_model_logreg = grid_logreg.fit(x_ros, y_ros)\n",
    "print(f'The best parameter for Logistic Regression is = \\n {grid_model_logreg.best_params_}')"
   ]
  },
  {
   "cell_type": "markdown",
   "metadata": {},
   "source": [
    "Karena dari evaluasi base model sebelumnya didapatkan bahwa model Logistic Regression, Naive Bayes, dan Decision Tree merupakan model dengan tingkat akurasi yang tinggi, maka untuk hard voting nantinya akan digunakan 3 model yaitu Logistic Regression, Naive Bayes, dan juga Decision Tree."
   ]
  },
  {
   "cell_type": "markdown",
   "metadata": {},
   "source": [
    "### Menggunakan Voting Classifier\n",
    "\n",
    "Disini voting classifier digunakan untuk mendapatkan model machine learning yang lebih stabil"
   ]
  },
  {
   "cell_type": "markdown",
   "metadata": {},
   "source": [
    "Disini voting classifier mulai di definisikan dengan base estimator nya Logistic Regression, Naive Bayes, dan Decision Tree"
   ]
  },
  {
   "cell_type": "code",
   "execution_count": 29,
   "metadata": {},
   "outputs": [],
   "source": [
    "## define voting classifier dengan estimator \n",
    "ensemble = VotingClassifier(estimators=[('logreg', LogisticRegression(**grid_logreg.best_params_)),\n",
    "                                        ('nb', GaussianNB(**grid_nb.best_params_)),\n",
    "                                        ('dt', DecisionTreeClassifier(**grid_dt.best_params_))],\n",
    "                            voting='soft')\n",
    "\n",
    "## define dictionary base model ditambah dengan voting classifier\n",
    "def get_models():\n",
    "    models = dict()\n",
    "    models['svm'] = SVC()\n",
    "    models['logreg'] = LogisticRegression()\n",
    "    models['knn'] = KNeighborsClassifier()\n",
    "    models['nb'] = GaussianNB()\n",
    "    models['dt'] = DecisionTreeClassifier()\n",
    "    models['soft_voting'] = ensemble\n",
    "    return models\n",
    "\n",
    "## function untuk evaluate model\n",
    "def evaluate_model(model, x, y):\n",
    "    cv = RepeatedStratifiedKFold(n_splits=10, n_repeats=3, random_state=10)\n",
    "    scores = cross_val_score(model, x, y, scoring='accuracy', cv=cv, n_jobs=-1, error_score='raise')\n",
    "    return scores"
   ]
  },
  {
   "cell_type": "code",
   "execution_count": 30,
   "metadata": {
    "scrolled": false
   },
   "outputs": [
    {
     "name": "stdout",
     "output_type": "stream",
     "text": [
      "\n",
      "svm model : \n",
      "average score = 0.53, average error = 0.06\n",
      "\n",
      "logreg model : \n",
      "average score = 0.76, average error = 0.06\n",
      "\n",
      "knn model : \n",
      "average score = 0.6, average error = 0.06\n",
      "\n",
      "nb model : \n",
      "average score = 0.78, average error = 0.05\n",
      "\n",
      "dt model : \n",
      "average score = 0.87, average error = 0.06\n",
      "\n",
      "soft_voting model : \n",
      "average score = 0.81, average error = 0.04\n"
     ]
    },
    {
     "data": {
      "image/png": "[encoded data removed]",
      "text/plain": [
       "<Figure size 432x288 with 1 Axes>"
      ]
     },
     "metadata": {
      "needs_background": "light"
     },
     "output_type": "display_data"
    }
   ],
   "source": [
    "## jalankan function get_models()\n",
    "## untuk mendapatkan dictionary base model dan ensemble voting classifier\n",
    "models = get_models()\n",
    "\n",
    "## mengevaluasi base model dan ensemble voting classifier lalu melakukan storing results score nya\n",
    "results, names = list(), list()\n",
    "for name, model in models.items():\n",
    "    scores = evaluate_model(model, x_ros, y_ros)\n",
    "    results.append(scores)\n",
    "    names.append(name)\n",
    "    print(f'\\n{name} model : \\naverage score = {np.round(np.mean(scores), 2)}, average error = {np.round(np.std(scores), 2)}')\n",
    "\n",
    "## membuat plot untuk membandingkan tiap model\n",
    "plt.figure(figsize=(6, 4))\n",
    "plt.boxplot(results, labels=names, showmeans=True)\n",
    "plt.show()"
   ]
  },
  {
   "cell_type": "code",
   "execution_count": 36,
   "metadata": {},
   "outputs": [],
   "source": [
    "soft_voting = ensemble.fit(x_train, y_train)"
   ]
  },
  {
   "cell_type": "markdown",
   "metadata": {},
   "source": [
    "Dari Boxplot dan evaluasi terhadap base model yang ada, dapat disimpulkan bahwa voting mendapatkan akurasi yang paling tinggi di angka 81% dan average error 4%, selain itu model ensemble voting ini juga lebih stabil stabil."
   ]
  },
  {
   "cell_type": "markdown",
   "metadata": {
    "id": "aP0OUw-wu5cm"
   },
   "source": [
    "## StackingCVClassifier"
   ]
  },
  {
   "cell_type": "markdown",
   "metadata": {},
   "source": [
    "Stacking adalah teknik machine learning ensemble untuk menggabungkan beberapa model klasifikasi melalui meta-classifier. Model klasifikasi individu dilatih berdasarkan set pelatihan yang lengkap, kemudian meta-classifier dipasang berdasarkan output meta-features dari model klasifikasi individual dalam metode ensemble. Meta-classifier dapat dilatih pada label kelas yang diprediksi atau probabilitas dari metode ensembel.\n",
    "\n",
    "<img title=\"a title\" alt=\"Alt text\" src=\"https://rasbt.github.io/mlxtend/user_guide/classifier/StackingClassifier_files/stackingclassification_overview.png\">\n",
    "\n",
    "sumber : \n",
    "- https://rasbt.github.io/mlxtend/user_guide/classifier/StackingClassifier/"
   ]
  },
  {
   "cell_type": "code",
   "execution_count": 32,
   "metadata": {},
   "outputs": [],
   "source": [
    "etc = ExtraTreesClassifier()\n",
    "logreg = LogisticRegression()\n",
    "knn = KNeighborsClassifier()\n",
    "svm = SVC()\n",
    "nb = GaussianNB()\n",
    "dt = DecisionTreeClassifier()"
   ]
  },
  {
   "cell_type": "markdown",
   "metadata": {},
   "source": [
    "### Evaluate model"
   ]
  },
  {
   "cell_type": "code",
   "execution_count": 34,
   "metadata": {
    "colab": {
     "base_uri": "https://localhost:8080/"
    },
    "id": "aGcKw4j3IC1k",
    "outputId": "85c1b8fa-ef48-4ef3-b0cb-729fa874a7b4"
   },
   "outputs": [
    {
     "name": "stdout",
     "output_type": "stream",
     "text": [
      "confussion matrix\n",
      "[[48  5]\n",
      " [ 8 61]]\n",
      "\n",
      "Accuracy score of StackingCVClassifier : 89.34\n",
      "\n",
      "Precision score of StackingCVClassifier : 92.42\n",
      "\n",
      "Recall score of StackingCVClassifier : 88.41\n",
      "\n",
      "F1 score of StackingCVClassifier : 90.37\n",
      "\n",
      "              precision    recall  f1-score   support\n",
      "\n",
      "           0       0.86      0.91      0.88        53\n",
      "           1       0.92      0.88      0.90        69\n",
      "\n",
      "    accuracy                           0.89       122\n",
      "   macro avg       0.89      0.89      0.89       122\n",
      "weighted avg       0.90      0.89      0.89       122\n",
      "\n"
     ]
    }
   ],
   "source": [
    "scv=StackingCVClassifier(classifiers=[etc, logreg, knn, nb, dt],\n",
    "                         meta_classifier= svm)\n",
    "\n",
    "\n",
    "model_stack = scv.fit(np.asarray(x_train),np.asarray(y_train))\n",
    "y_pred = model_stack.predict(x_test)\n",
    "stack_cm = confusion_matrix(y_test, y_pred)\n",
    "stack_accuracy = accuracy_score(y_test, y_pred)\n",
    "stack_precision = precision_score(y_test, y_pred)\n",
    "stack_recall = recall_score(y_test, y_pred)\n",
    "stack_f1 = f1_score(y_test, y_pred)\n",
    "\n",
    "print('confussion matrix')\n",
    "print(stack_cm)\n",
    "print(f'\\nAccuracy score of StackingCVClassifier : {np.round(stack_accuracy*100, 2)}\\n')\n",
    "print(f'Precision score of StackingCVClassifier : {np.round(stack_precision*100, 2)}\\n')\n",
    "print(f'Recall score of StackingCVClassifier : {np.round(stack_recall*100, 2)}\\n')\n",
    "print(f'F1 score of StackingCVClassifier : {np.round(stack_f1*100, 2)}\\n')\n",
    "print(classification_report(y_test, y_pred))"
   ]
  },
  {
   "cell_type": "markdown",
   "metadata": {},
   "source": [
    "Dari model evaluasi diatas kita mendapatkan akurasi yang sangat tinggi menggunakan model ensemble stacking classifier dengan tingkat akurasi sekitar 90%, "
   ]
  },
  {
   "cell_type": "markdown",
   "metadata": {},
   "source": [
    "# Model Inference"
   ]
  },
  {
   "cell_type": "code",
   "execution_count": 35,
   "metadata": {},
   "outputs": [
    {
     "data": {
      "text/html": [
       "<div>\n",
       "<style scoped>\n",
       "    .dataframe tbody tr th:only-of-type {\n",
       "        vertical-align: middle;\n",
       "    }\n",
       "\n",
       "    .dataframe tbody tr th {\n",
       "        vertical-align: top;\n",
       "    }\n",
       "\n",
       "    .dataframe thead th {\n",
       "        text-align: right;\n",
       "    }\n",
       "</style>\n",
       "<table border=\"1\" class=\"dataframe\">\n",
       "  <thead>\n",
       "    <tr style=\"text-align: right;\">\n",
       "      <th></th>\n",
       "      <th>time</th>\n",
       "      <th>serum_creatinine</th>\n",
       "      <th>creatinine_phosphokinase</th>\n",
       "      <th>platelets</th>\n",
       "      <th>ejection_fraction</th>\n",
       "      <th>death</th>\n",
       "    </tr>\n",
       "  </thead>\n",
       "  <tbody>\n",
       "    <tr>\n",
       "      <th>297</th>\n",
       "      <td>280</td>\n",
       "      <td>1.4</td>\n",
       "      <td>2413</td>\n",
       "      <td>140000.0</td>\n",
       "      <td>38</td>\n",
       "      <td>0</td>\n",
       "    </tr>\n",
       "    <tr>\n",
       "      <th>298</th>\n",
       "      <td>285</td>\n",
       "      <td>1.6</td>\n",
       "      <td>196</td>\n",
       "      <td>395000.0</td>\n",
       "      <td>45</td>\n",
       "      <td>0</td>\n",
       "    </tr>\n",
       "  </tbody>\n",
       "</table>\n",
       "</div>"
      ],
      "text/plain": [
       "     time  serum_creatinine  creatinine_phosphokinase  platelets  \\\n",
       "297   280               1.4                      2413   140000.0   \n",
       "298   285               1.6                       196   395000.0   \n",
       "\n",
       "     ejection_fraction  death  \n",
       "297                 38      0  \n",
       "298                 45      0  "
      ]
     },
     "execution_count": 35,
     "metadata": {},
     "output_type": "execute_result"
    }
   ],
   "source": [
    "df.tail(2)"
   ]
  },
  {
   "cell_type": "markdown",
   "metadata": {},
   "source": [
    "## Voting Classifier"
   ]
  },
  {
   "cell_type": "code",
   "execution_count": 37,
   "metadata": {},
   "outputs": [
    {
     "data": {
      "text/plain": [
       "['voting.pkl']"
      ]
     },
     "execution_count": 37,
     "metadata": {},
     "output_type": "execute_result"
    }
   ],
   "source": [
    "joblib.dump(soft_voting, 'voting.pkl')"
   ]
  },
  {
   "cell_type": "code",
   "execution_count": 38,
   "metadata": {},
   "outputs": [
    {
     "name": "stdout",
     "output_type": "stream",
     "text": [
      "Waktu untuk follow-up (hari) : 280\n",
      "level serum creatinine di darah (mg/dL) : 1.4\n",
      "Level enzim CPK (mcg/L) : 2413\n",
      "Jumlah platelet di darah (kiloplatelets/mL) : 140000.0\n",
      "Darah yang meninggalkan jantung di setiap kontraksi jantung (%) : 38\n",
      "Pasien memiliki kesempatan hidup tinggi\n"
     ]
    }
   ],
   "source": [
    "stacking = joblib.load('voting.pkl')\n",
    "\n",
    "time = int(input('Waktu untuk follow-up (hari) : '))\n",
    "serum_creatinine = float(input('level serum creatinine di darah (mg/dL) : '))\n",
    "creatinine_phosphokinase = int(input('Level enzim CPK (mcg/L) : '))\n",
    "platelets = float(input('Jumlah platelet di darah (kiloplatelets/mL) : '))\n",
    "ejection_fraction = int(input('Darah yang meninggalkan jantung di setiap kontraksi jantung (%) : '))\n",
    "\n",
    "val_input = [time, serum_creatinine, creatinine_phosphokinase, platelets, ejection_fraction]\n",
    "\n",
    "pred = soft_voting.predict([val_input])\n",
    "\n",
    "if pred == 0:\n",
    "    print('Pasien memiliki kesempatan hidup tinggi')\n",
    "elif pred == 1:\n",
    "    print('Pasien memiliki kesempatan hidup rendah')\n",
    "else:\n",
    "    print('Prediksi tidak valid!')"
   ]
  },
  {
   "cell_type": "markdown",
   "metadata": {},
   "source": [
    "## Stacking Classifier"
   ]
  },
  {
   "cell_type": "code",
   "execution_count": 39,
   "metadata": {},
   "outputs": [
    {
     "data": {
      "text/plain": [
       "['stacking.pkl']"
      ]
     },
     "execution_count": 39,
     "metadata": {},
     "output_type": "execute_result"
    }
   ],
   "source": [
    "joblib.dump(model_stack, 'stacking.pkl')"
   ]
  },
  {
   "cell_type": "code",
   "execution_count": 40,
   "metadata": {},
   "outputs": [
    {
     "name": "stdout",
     "output_type": "stream",
     "text": [
      "Waktu untuk follow-up (hari) : 280\n",
      "level serum creatinine di darah (mg/dL) : 1.4\n",
      "Level enzim CPK (mcg/L) : 2413\n",
      "Jumlah platelet di darah (kiloplatelets/mL) : 140000.0\n",
      "Darah yang meninggalkan jantung di setiap kontraksi jantung (%) : 38\n",
      "Pasien memiliki kesempatan hidup tinggi\n"
     ]
    }
   ],
   "source": [
    "stacking = joblib.load('stacking.pkl')\n",
    "\n",
    "time = int(input('Waktu untuk follow-up (hari) : '))\n",
    "serum_creatinine = float(input('level serum creatinine di darah (mg/dL) : '))\n",
    "creatinine_phosphokinase = int(input('Level enzim CPK (mcg/L) : '))\n",
    "platelets = float(input('Jumlah platelet di darah (kiloplatelets/mL) : '))\n",
    "ejection_fraction = int(input('Darah yang meninggalkan jantung di setiap kontraksi jantung (%) : '))\n",
    "\n",
    "val_input = [time, serum_creatinine, creatinine_phosphokinase, platelets, ejection_fraction]\n",
    "\n",
    "pred = model_stack.predict([val_input])\n",
    "\n",
    "if pred == 0:\n",
    "    print('Pasien memiliki kesempatan hidup tinggi')\n",
    "elif pred == 1:\n",
    "    print('Pasien memiliki kesempatan hidup rendah')\n",
    "else:\n",
    "    print('Prediksi tidak valid!')"
   ]
  },
  {
   "cell_type": "markdown",
   "metadata": {},
   "source": [
    "# Conclusion"
   ]
  },
  {
   "cell_type": "markdown",
   "metadata": {},
   "source": [
    "Berdasarkan keseluruhan hasil analisis di atas, dapat disimpulkan bahwa :\n",
    "\n",
    "1. Project ini membahas tentang penerapan Ensemble Learning, yang mana disini kami menggunakan Tipe Ensemble Learning untuk various type, yaitu menggunakan Voting Classifier dan Stacking Classifier.\n",
    "2. Data yang ada dalam project ini merupakan data yang bisa dibilang sudah clean dan hanya tinggal melakukan analisis dan penerapan model ensemble learning.\n",
    "3. Feature yang paling mempengaruhi kolom target adalah feature 'time'.\n",
    "4. Feature target yang ada pada data ini bersifat imbalanced atau tidak seimbang, sehingga saat melakukan penerapan model machine learning memerlukan proses resampling sehingga dapat diseimbangkan.\n",
    "5. Merokok atau tidak, umur, jenis kelamin, dan riwayat penyakit seperti diabetes,  pasien tidak menentukan pasien tersebut berpeluang sakit jantung.\n",
    "6. Dari diagram lingkaran yang sudah dibuat diatas dapat disimpulkan bahwa :\n",
    "    - total pasien diatas umur 50 meninggal adalah 85 orang\n",
    "    - total pasien diatas umur 50 yang selamat adalah 167 orang\n",
    "7. Dari countplot yang sudah dibuat diatas, dapat disimpulkan bahwa :\n",
    "    - Pasien penyakit jantung yang tidak mengidap anemia lebih banyak yang meninggal yaitu sekitar 50 orang dibandingan dengan pasien yang mengidap anemia yaitu sekitar 46 orang.\n",
    "    - Pasien penyakit jantung yang tidak mengidap diabetes lebih banyak yang meninggal yaitu sekitar 55 orang dibandingan dengan pasien yang mengidap diabetes yaitu sekitar 40 orang.\n",
    "    - Pasien penyakit jantung yang tidak mengidap darah tinggi lebih banyak yang meninggal yaitu sekitar 55 orang dibandingan dengan pasien yang mengidap anemia yaitu sekitar 40 orang.\n",
    "    - Pasien penyakit jantung yang pria lebih banyak yang meninggal yaitu sekitar 64 orang dibandingan dengan pasien wanita yaitu sekitar 35 orang.\n",
    "    - Pasien penyakit jantung yang tidak merokok lebih banyak yang meninggal yaitu sekitar 65 orang dibandingan dengan pasien yang merokok anemia yaitu sekitar 30 orang.\n",
    "8. Karena data terlalu sedikit, maka tidak dapat melakukan terlalu banyak modifikasi terhadap data.\n",
    "9. Pada Ensemble Learning ini kami menggunakan tipe ensemble learning untuk various type, yaitu :\n",
    "    - Voting Classifier (soft voting) ditambah dengan GridSearchCV untuk melakukan hyperparameter tuning untuk mendapatkan parameter terbaik untuk base classifier, sehingga metode ini mendapatkan model yang stabil dengan akurasi sekitar 81% dan average error sekitar 4%.\n",
    "    - Stacking Classifier, yang mana membutuhkan base classifier dan juga meta classifier, yang mana kami mendapat akurasi yang sangat tinggi yaitu sekitar 90%."
   ]
  },
  {
   "cell_type": "code",
   "execution_count": null,
   "metadata": {},
   "outputs": [],
   "source": []
  }
 ],
 "metadata": {
  "colab": {
   "collapsed_sections": [
    "pb-uPA_1t-gC",
    "ki8Z6Jpvsk6I",
    "FXmFqQkc4Hym",
    "S9vUg6jusrKh",
    "LKSnZdHQs4o1",
    "KXyOHgACtecT",
    "P1VL-Wm7SlJ1",
    "VjRDzdjWW3bL",
    "bn44B_ETe7nz",
    "49DevFOWnE79",
    "Dz3sGFJgqnTp"
   ],
   "name": "final_project_3.ipynb",
   "provenance": []
  },
  "kernelspec": {
   "display_name": "Python 3 (ipykernel)",
   "language": "python",
   "name": "python3"
  },
  "language_info": {
   "codemirror_mode": {
    "name": "ipython",
    "version": 3
   },
   "file_extension": ".py",
   "mimetype": "text/x-python",
   "name": "python",
   "nbconvert_exporter": "python",
   "pygments_lexer": "ipython3",
   "version": "3.9.7"
  },
  "latex_envs": {
   "LaTeX_envs_menu_present": true,
   "autoclose": false,
   "autocomplete": true,
   "bibliofile": "biblio.bib",
   "cite_by": "apalike",
   "current_citInitial": 1,
   "eqLabelWithNumbers": true,
   "eqNumInitial": 1,
   "hotkeys": {
    "equation": "Ctrl-E",
    "itemize": "Ctrl-I"
   },
   "labels_anchors": false,
   "latex_user_defs": false,
   "report_style_numbering": false,
   "user_envs_cfg": false
  },
  "toc": {
   "base_numbering": 1,
   "nav_menu": {},
   "number_sections": true,
   "sideBar": true,
   "skip_h1_title": true,
   "title_cell": "Table of Contents",
   "title_sidebar": "Contents",
   "toc_cell": false,
   "toc_position": {},
   "toc_section_display": true,
   "toc_window_display": false
  },
  "varInspector": {
   "cols": {
    "lenName": 16,
    "lenType": 16,
    "lenVar": 40
   },
   "kernels_config": {
    "python": {
     "delete_cmd_postfix": "",
     "delete_cmd_prefix": "del ",
     "library": "var_list.py",
     "varRefreshCmd": "print(var_dic_list())"
    },
    "r": {
     "delete_cmd_postfix": ") ",
     "delete_cmd_prefix": "rm(",
     "library": "var_list.r",
     "varRefreshCmd": "cat(var_dic_list()) "
    }
   },
   "types_to_exclude": [
    "module",
    "function",
    "builtin_function_or_method",
    "instance",
    "_Feature"
   ],
   "window_display": false
  }
 },
 "nbformat": 4,
 "nbformat_minor": 1
}
