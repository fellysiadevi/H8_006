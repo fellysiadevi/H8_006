{
 "cells": [
  {
   "cell_type": "code",
   "execution_count": 3,
   "id": "66f52dde",
   "metadata": {},
   "outputs": [
    {
     "name": "stdout",
     "output_type": "stream",
     "text": [
      "fell18\n",
      "<class 'str'>\n"
     ]
    }
   ],
   "source": [
    "a = 'fell18'\n",
    "print(a)\n",
    "print(type(a))"
   ]
  },
  {
   "cell_type": "code",
   "execution_count": 4,
   "id": "880328e1",
   "metadata": {},
   "outputs": [
    {
     "name": "stdout",
     "output_type": "stream",
     "text": [
      "1357\n",
      "<class 'str'>\n"
     ]
    }
   ],
   "source": [
    "a = '1357'\n",
    "print(a)\n",
    "print(type(a))"
   ]
  },
  {
   "cell_type": "code",
   "execution_count": 5,
   "id": "f549e1d2",
   "metadata": {},
   "outputs": [
    {
     "name": "stdout",
     "output_type": "stream",
     "text": [
      "12345\n",
      "<class 'int'>\n"
     ]
    }
   ],
   "source": [
    "a = 12345\n",
    "print(a)\n",
    "print(type(a))"
   ]
  },
  {
   "cell_type": "code",
   "execution_count": 6,
   "id": "4a4f5606",
   "metadata": {},
   "outputs": [
    {
     "name": "stdout",
     "output_type": "stream",
     "text": [
      "This string contains a single quote (') character.\n",
      "This string contains a double quote (\") character.\n"
     ]
    }
   ],
   "source": [
    "print(\"This string contains a single quote (') character.\")\n",
    "print('This string contains a double quote (\") character.')"
   ]
  },
  {
   "cell_type": "code",
   "execution_count": 7,
   "id": "b98524e6",
   "metadata": {},
   "outputs": [
    {
     "name": "stdout",
     "output_type": "stream",
     "text": [
      "This string contains a single quote (') character.\n"
     ]
    }
   ],
   "source": [
    "print('This string contains a single quote (\\') character.')"
   ]
  },
  {
   "cell_type": "code",
   "execution_count": 11,
   "id": "f233ae71",
   "metadata": {},
   "outputs": [
    {
     "data": {
      "text/plain": [
       "89"
      ]
     },
     "execution_count": 11,
     "metadata": {},
     "output_type": "execute_result"
    }
   ],
   "source": [
    "a = 56\n",
    "a\n",
    "b = 89\n",
    "b"
   ]
  },
  {
   "cell_type": "code",
   "execution_count": 13,
   "id": "fc052f1c",
   "metadata": {},
   "outputs": [
    {
     "name": "stdout",
     "output_type": "stream",
     "text": [
      "13\n"
     ]
    },
    {
     "data": {
      "text/plain": [
       "45"
      ]
     },
     "execution_count": 13,
     "metadata": {},
     "output_type": "execute_result"
    }
   ],
   "source": [
    "a = 13\n",
    "print(a)\n",
    "b = 45\n",
    "b"
   ]
  },
  {
   "cell_type": "code",
   "execution_count": 14,
   "id": "e8774820",
   "metadata": {},
   "outputs": [
    {
     "name": "stdout",
     "output_type": "stream",
     "text": [
      "23.5\n",
      "<class 'float'>\n",
      "Now I'm a string\n",
      "<class 'str'>\n"
     ]
    }
   ],
   "source": [
    "var = 23.5\n",
    "print(var)\n",
    "print(type(var))\n",
    "\n",
    "var = \"Now I'm a string\"\n",
    "print(var)\n",
    "print(type(var))"
   ]
  },
  {
   "cell_type": "code",
   "execution_count": 15,
   "id": "cfac4949",
   "metadata": {},
   "outputs": [
    {
     "name": "stdout",
     "output_type": "stream",
     "text": [
      "ANI\n"
     ]
    }
   ],
   "source": [
    "name = \"ANI\"\n",
    "name\n",
    "'ANI'\n",
    "NAME = \"ANITA\"\n",
    "print(name)"
   ]
  },
  {
   "cell_type": "code",
   "execution_count": 16,
   "id": "b920fe46",
   "metadata": {},
   "outputs": [
    {
     "name": "stdout",
     "output_type": "stream",
     "text": [
      "ANITA\n"
     ]
    }
   ],
   "source": [
    "print(NAME)"
   ]
  },
  {
   "cell_type": "markdown",
   "id": "b96cb36e",
   "metadata": {},
   "source": [
    "# Operator and Expression"
   ]
  },
  {
   "cell_type": "code",
   "execution_count": 17,
   "id": "bb1373cc",
   "metadata": {},
   "outputs": [
    {
     "data": {
      "text/plain": [
       "30"
      ]
     },
     "execution_count": 17,
     "metadata": {},
     "output_type": "execute_result"
    }
   ],
   "source": [
    "a = 10\n",
    "b = 20\n",
    "a + b"
   ]
  },
  {
   "cell_type": "code",
   "execution_count": 19,
   "id": "be7f8248",
   "metadata": {},
   "outputs": [
    {
     "name": "stdout",
     "output_type": "stream",
     "text": [
      "100\n",
      "-50\n",
      "1875\n",
      "0.3333333333333333\n",
      "0\n",
      "25\n",
      "1875\n"
     ]
    }
   ],
   "source": [
    "a = 25\n",
    "b = 75\n",
    "print(a + b)\n",
    "print(a - b)\n",
    "print(a * b)\n",
    "print(a / b)\n",
    "print(a // b)\n",
    "print(a % b)\n",
    "print(a * b)"
   ]
  },
  {
   "cell_type": "code",
   "execution_count": 20,
   "id": "251f7935",
   "metadata": {},
   "outputs": [
    {
     "name": "stdout",
     "output_type": "stream",
     "text": [
      "700649232162408535461864791644958065640130970938257885878534141944895541342930300743319094181060791015625\n"
     ]
    }
   ],
   "source": [
    "print(a**b)"
   ]
  },
  {
   "cell_type": "markdown",
   "id": "2eb532b8",
   "metadata": {},
   "source": [
    "# String Manipulation"
   ]
  },
  {
   "cell_type": "code",
   "execution_count": 22,
   "id": "170f2953",
   "metadata": {},
   "outputs": [
    {
     "name": "stdout",
     "output_type": "stream",
     "text": [
      "felly\n",
      "fellysia\n"
     ]
    }
   ],
   "source": [
    "s = 'fel'\n",
    "t = 'ly'\n",
    "u = 'sia'\n",
    "print(s + t)\n",
    "print(s + t + u)"
   ]
  },
  {
   "cell_type": "code",
   "execution_count": 25,
   "id": "2618344e",
   "metadata": {},
   "outputs": [
    {
     "data": {
      "text/plain": [
       "'Hacktiv8fellysia'"
      ]
     },
     "execution_count": 25,
     "metadata": {},
     "output_type": "execute_result"
    }
   ],
   "source": [
    "stu = s + t + u\n",
    "stu\n",
    "concantenated_string = 'Hacktiv8' + stu\n",
    "concantenated_string"
   ]
  },
  {
   "cell_type": "markdown",
   "id": "8752a189",
   "metadata": {},
   "source": [
    "# in Operators"
   ]
  },
  {
   "cell_type": "code",
   "execution_count": 26,
   "id": "bb9c2bd6",
   "metadata": {},
   "outputs": [
    {
     "name": "stdout",
     "output_type": "stream",
     "text": [
      "True\n"
     ]
    }
   ],
   "source": [
    "s = 'foo'\n",
    "print(s in 'That food for us')\n"
   ]
  },
  {
   "cell_type": "code",
   "execution_count": 27,
   "id": "a7b3585e",
   "metadata": {},
   "outputs": [
    {
     "name": "stdout",
     "output_type": "stream",
     "text": [
      "False\n"
     ]
    }
   ],
   "source": [
    "s = 'foo'\n",
    "print(s in 'That good for us')"
   ]
  },
  {
   "cell_type": "markdown",
   "id": "d38da416",
   "metadata": {},
   "source": [
    "# .capitalize() vs .title()"
   ]
  },
  {
   "cell_type": "code",
   "execution_count": 29,
   "id": "8210d735",
   "metadata": {},
   "outputs": [
    {
     "name": "stdout",
     "output_type": "stream",
     "text": [
      "Capitalized  Hello world\n",
      "Titled  Hello World\n"
     ]
    }
   ],
   "source": [
    "s = 'hello world'\n",
    "print('Capitalized ', s.capitalize())\n",
    "print('Titled ', s.title())"
   ]
  },
  {
   "cell_type": "markdown",
   "id": "e63b393a",
   "metadata": {},
   "source": [
    "# Python Lists"
   ]
  },
  {
   "cell_type": "code",
   "execution_count": 30,
   "id": "475915db",
   "metadata": {},
   "outputs": [
    {
     "name": "stdout",
     "output_type": "stream",
     "text": [
      "['foo', 'bar', 'baz', 'qux']\n"
     ]
    }
   ],
   "source": [
    "a = ['foo', 'bar', 'baz', 'qux']\n",
    "print(a)"
   ]
  },
  {
   "cell_type": "code",
   "execution_count": 31,
   "id": "63588c1a",
   "metadata": {},
   "outputs": [
    {
     "name": "stdout",
     "output_type": "stream",
     "text": [
      "foo\n"
     ]
    }
   ],
   "source": [
    "print(a[0])"
   ]
  },
  {
   "cell_type": "code",
   "execution_count": 32,
   "id": "3410ee46",
   "metadata": {},
   "outputs": [
    {
     "name": "stdout",
     "output_type": "stream",
     "text": [
      "bar\n",
      "baz\n",
      "qux\n"
     ]
    }
   ],
   "source": [
    "print(a[1])\n",
    "print(a[2])\n",
    "print(a[3])"
   ]
  },
  {
   "cell_type": "markdown",
   "id": "3c5c68a1",
   "metadata": {},
   "source": [
    "# Python Lists - negative indices"
   ]
  },
  {
   "cell_type": "code",
   "execution_count": 33,
   "id": "8704ab96",
   "metadata": {},
   "outputs": [
    {
     "data": {
      "text/plain": [
       "False"
      ]
     },
     "execution_count": 33,
     "metadata": {},
     "output_type": "execute_result"
    }
   ],
   "source": [
    "a = ['foo', 'bar', 'baz', 'qux']\n",
    "b = ['baz', 'qux', 'bar', 'foo']\n",
    "a == b"
   ]
  },
  {
   "cell_type": "code",
   "execution_count": 34,
   "id": "2e5ca7f4",
   "metadata": {},
   "outputs": [
    {
     "data": {
      "text/plain": [
       "True"
      ]
     },
     "execution_count": 34,
     "metadata": {},
     "output_type": "execute_result"
    }
   ],
   "source": [
    "a = ['foo', 'bar', 'baz', 'qux']\n",
    "b = ['foo', 'bar', 'baz', 'qux']\n",
    "a == b\n"
   ]
  },
  {
   "cell_type": "code",
   "execution_count": 37,
   "id": "446a6e7b",
   "metadata": {},
   "outputs": [
    {
     "data": {
      "text/plain": [
       "dict"
      ]
     },
     "execution_count": 37,
     "metadata": {},
     "output_type": "execute_result"
    }
   ],
   "source": [
    "person = {}\n",
    "type(person)"
   ]
  },
  {
   "cell_type": "code",
   "execution_count": 38,
   "id": "891a19b7",
   "metadata": {},
   "outputs": [
    {
     "data": {
      "text/plain": [
       "'Joey'"
      ]
     },
     "execution_count": 38,
     "metadata": {},
     "output_type": "execute_result"
    }
   ],
   "source": [
    "person['fname'] = 'Hack'\n",
    "person['lname'] = 'Inalum'\n",
    "person['age'] = 51\n",
    "person['spouse'] = 'Edna'\n",
    "person['children'] = ['Ralph', 'Betty', 'Joey']\n",
    "person['pets'] = {'dog': 'Fido', 'cat': 'Sox'}\n",
    "person['children']\n",
    "['Ralph', 'Betty', 'Joey']\n",
    "person['children'][2]"
   ]
  },
  {
   "cell_type": "code",
   "execution_count": 39,
   "id": "cefbc0c7",
   "metadata": {},
   "outputs": [
    {
     "ename": "IndexError",
     "evalue": "list index out of range",
     "output_type": "error",
     "traceback": [
      "\u001b[1;31m---------------------------------------------------------------------------\u001b[0m",
      "\u001b[1;31mIndexError\u001b[0m                                Traceback (most recent call last)",
      "\u001b[1;32m~\\AppData\\Local\\Temp/ipykernel_4800/3081808941.py\u001b[0m in \u001b[0;36m<module>\u001b[1;34m\u001b[0m\n\u001b[1;32m----> 1\u001b[1;33m \u001b[0mperson\u001b[0m\u001b[1;33m[\u001b[0m\u001b[1;34m'children'\u001b[0m\u001b[1;33m]\u001b[0m\u001b[1;33m[\u001b[0m\u001b[1;36m5\u001b[0m\u001b[1;33m]\u001b[0m\u001b[1;33m\u001b[0m\u001b[1;33m\u001b[0m\u001b[0m\n\u001b[0m",
      "\u001b[1;31mIndexError\u001b[0m: list index out of range"
     ]
    }
   ],
   "source": [
    "person['children'][5]"
   ]
  },
  {
   "cell_type": "code",
   "execution_count": null,
   "id": "ae2528e9",
   "metadata": {},
   "outputs": [],
   "source": []
  }
 ],
 "metadata": {
  "kernelspec": {
   "display_name": "Python 3 (ipykernel)",
   "language": "python",
   "name": "python3"
  },
  "language_info": {
   "codemirror_mode": {
    "name": "ipython",
    "version": 3
   },
   "file_extension": ".py",
   "mimetype": "text/x-python",
   "name": "python",
   "nbconvert_exporter": "python",
   "pygments_lexer": "ipython3",
   "version": "3.9.7"
  },
  "varInspector": {
   "cols": {
    "lenName": 16,
    "lenType": 16,
    "lenVar": 40
   },
   "kernels_config": {
    "python": {
     "delete_cmd_postfix": "",
     "delete_cmd_prefix": "del ",
     "library": "var_list.py",
     "varRefreshCmd": "print(var_dic_list())"
    },
    "r": {
     "delete_cmd_postfix": ") ",
     "delete_cmd_prefix": "rm(",
     "library": "var_list.r",
     "varRefreshCmd": "cat(var_dic_list()) "
    }
   },
   "types_to_exclude": [
    "module",
    "function",
    "builtin_function_or_method",
    "instance",
    "_Feature"
   ],
   "window_display": false
  }
 },
 "nbformat": 4,
 "nbformat_minor": 5
}
